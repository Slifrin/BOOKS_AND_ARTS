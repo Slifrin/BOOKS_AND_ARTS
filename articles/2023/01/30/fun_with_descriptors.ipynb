{
 "cells": [
  {
   "cell_type": "code",
   "execution_count": 2,
   "metadata": {},
   "outputs": [],
   "source": [
    "import managed_attributes\n"
   ]
  },
  {
   "cell_type": "code",
   "execution_count": 3,
   "metadata": {},
   "outputs": [
    {
     "name": "stderr",
     "output_type": "stream",
     "text": [
      "INFO:root:Updating 'age' giving 30\n"
     ]
    }
   ],
   "source": [
    "mary = managed_attributes.Person('Mary M', 30)\n"
   ]
  },
  {
   "cell_type": "code",
   "execution_count": 4,
   "metadata": {},
   "outputs": [
    {
     "name": "stderr",
     "output_type": "stream",
     "text": [
      "INFO:root:Accessing 'age' giving 30\n",
      "INFO:root:Accessing age giving 30\n"
     ]
    },
    {
     "data": {
      "text/plain": [
       "30"
      ]
     },
     "execution_count": 4,
     "metadata": {},
     "output_type": "execute_result"
    }
   ],
   "source": [
    "mary.age"
   ]
  },
  {
   "cell_type": "code",
   "execution_count": 5,
   "metadata": {},
   "outputs": [
    {
     "data": {
      "text/plain": [
       "{'name': 'Mary M', '_age': 30}"
      ]
     },
     "execution_count": 5,
     "metadata": {},
     "output_type": "execute_result"
    }
   ],
   "source": [
    "vars(mary)"
   ]
  },
  {
   "cell_type": "code",
   "execution_count": 6,
   "metadata": {},
   "outputs": [],
   "source": [
    "import customized_names\n",
    "\n"
   ]
  },
  {
   "cell_type": "code",
   "execution_count": 7,
   "metadata": {},
   "outputs": [
    {
     "name": "stderr",
     "output_type": "stream",
     "text": [
      "INFO:root:Updating 'name' to 'John J'\n",
      "INFO:root:Updating 'age' to 33\n"
     ]
    }
   ],
   "source": [
    "john = customized_names.Person('John J', 33)"
   ]
  },
  {
   "cell_type": "code",
   "execution_count": 8,
   "metadata": {},
   "outputs": [
    {
     "data": {
      "text/plain": [
       "{'_name': 'John J', '_age': 33}"
      ]
     },
     "execution_count": 8,
     "metadata": {},
     "output_type": "execute_result"
    }
   ],
   "source": [
    "vars(john)"
   ]
  },
  {
   "cell_type": "code",
   "execution_count": 9,
   "metadata": {},
   "outputs": [
    {
     "data": {
      "text/plain": [
       "['__class__',\n",
       " '__delattr__',\n",
       " '__dict__',\n",
       " '__dir__',\n",
       " '__doc__',\n",
       " '__eq__',\n",
       " '__format__',\n",
       " '__ge__',\n",
       " '__getattribute__',\n",
       " '__gt__',\n",
       " '__hash__',\n",
       " '__init__',\n",
       " '__init_subclass__',\n",
       " '__le__',\n",
       " '__lt__',\n",
       " '__module__',\n",
       " '__ne__',\n",
       " '__new__',\n",
       " '__reduce__',\n",
       " '__reduce_ex__',\n",
       " '__repr__',\n",
       " '__setattr__',\n",
       " '__sizeof__',\n",
       " '__str__',\n",
       " '__subclasshook__',\n",
       " '__weakref__',\n",
       " '_age',\n",
       " '_name',\n",
       " 'age',\n",
       " 'birthday',\n",
       " 'name']"
      ]
     },
     "execution_count": 9,
     "metadata": {},
     "output_type": "execute_result"
    }
   ],
   "source": [
    "dir(john)"
   ]
  },
  {
   "cell_type": "code",
   "execution_count": 12,
   "metadata": {},
   "outputs": [
    {
     "name": "stderr",
     "output_type": "stream",
     "text": [
      "INFO:root:Accessing 'age' giving 33\n"
     ]
    },
    {
     "ename": "AttributeError",
     "evalue": "'NoneType' object has no attribute '_age'",
     "output_type": "error",
     "traceback": [
      "\u001b[0;31m---------------------------------------------------------------------------\u001b[0m",
      "\u001b[0;31mAttributeError\u001b[0m                            Traceback (most recent call last)",
      "Cell \u001b[0;32mIn[12], line 2\u001b[0m\n\u001b[1;32m      1\u001b[0m \u001b[39mtype\u001b[39m(john\u001b[39m.\u001b[39mage)\n\u001b[0;32m----> 2\u001b[0m \u001b[39mtype\u001b[39m(customized_names\u001b[39m.\u001b[39;49mPerson\u001b[39m.\u001b[39;49mage)\n",
      "File \u001b[0;32m~/Desktop/NAUKA/py_fun/books_and_arts/articles/2023/01/30/customized_names.py:13\u001b[0m, in \u001b[0;36mLoggedAccess.__get__\u001b[0;34m(self, obj, objtype)\u001b[0m\n\u001b[1;32m     12\u001b[0m \u001b[39mdef\u001b[39;00m \u001b[39m__get__\u001b[39m(\u001b[39mself\u001b[39m, obj, objtype\u001b[39m=\u001b[39m\u001b[39mNone\u001b[39;00m):\n\u001b[0;32m---> 13\u001b[0m     value \u001b[39m=\u001b[39m \u001b[39mgetattr\u001b[39;49m(obj, \u001b[39mself\u001b[39;49m\u001b[39m.\u001b[39;49mprivate_name)\n\u001b[1;32m     14\u001b[0m     logging\u001b[39m.\u001b[39minfo(\u001b[39m'\u001b[39m\u001b[39mAccessing \u001b[39m\u001b[39m%r\u001b[39;00m\u001b[39m giving \u001b[39m\u001b[39m%r\u001b[39;00m\u001b[39m'\u001b[39m, \u001b[39mself\u001b[39m\u001b[39m.\u001b[39mpublic_name, value)\n\u001b[1;32m     15\u001b[0m     \u001b[39mreturn\u001b[39;00m value\n",
      "\u001b[0;31mAttributeError\u001b[0m: 'NoneType' object has no attribute '_age'"
     ]
    }
   ],
   "source": [
    "type(john.age)\n",
    "type(customized_names.Person.age)"
   ]
  },
  {
   "cell_type": "code",
   "execution_count": 19,
   "metadata": {},
   "outputs": [
    {
     "name": "stdout",
     "output_type": "stream",
     "text": [
      "mappingproxy({'__dict__': <attribute '__dict__' of 'Person' objects>,\n",
      "              '__doc__': None,\n",
      "              '__init__': <function Person.__init__ at 0x10ae25d80>,\n",
      "              '__module__': 'customized_names',\n",
      "              '__weakref__': <attribute '__weakref__' of 'Person' objects>,\n",
      "              'age': <customized_names.LoggedAccess object at 0x10ad96320>,\n",
      "              'birthday': <function Person.birthday at 0x10ae25f30>,\n",
      "              'name': <customized_names.LoggedAccess object at 0x10ad963b0>})\n",
      "{'private_name': '_age', 'public_name': 'age'}\n"
     ]
    },
    {
     "data": {
      "text/plain": [
       "{'public_name': 'age', 'private_name': '_age'}"
      ]
     },
     "execution_count": 19,
     "metadata": {},
     "output_type": "execute_result"
    }
   ],
   "source": [
    "from pprint import pprint\n",
    "\n",
    "pprint(vars(customized_names.Person))\n",
    "\n",
    "pprint(vars(vars(customized_names.Person)['age']))\n",
    "\n",
    "vars(vars(customized_names.Person)['age'])"
   ]
  },
  {
   "cell_type": "code",
   "execution_count": 20,
   "metadata": {},
   "outputs": [
    {
     "name": "stderr",
     "output_type": "stream",
     "text": [
      "INFO:root:Accessing 'age' giving 33\n",
      "INFO:root:Updating 'age' to 34\n"
     ]
    }
   ],
   "source": [
    "john.birthday()"
   ]
  },
  {
   "cell_type": "code",
   "execution_count": 21,
   "metadata": {},
   "outputs": [],
   "source": [
    "import more_practical_example"
   ]
  },
  {
   "cell_type": "code",
   "execution_count": 22,
   "metadata": {},
   "outputs": [
    {
     "ename": "ValueError",
     "evalue": "Expected <method 'isupper' of 'str' objects> to be true for 'Widget'",
     "output_type": "error",
     "traceback": [
      "\u001b[0;31m---------------------------------------------------------------------------\u001b[0m",
      "\u001b[0;31mValueError\u001b[0m                                Traceback (most recent call last)",
      "Cell \u001b[0;32mIn[22], line 1\u001b[0m\n\u001b[0;32m----> 1\u001b[0m more_practical_example\u001b[39m.\u001b[39;49mComponent(\u001b[39m'\u001b[39;49m\u001b[39mWidget\u001b[39;49m\u001b[39m'\u001b[39;49m, \u001b[39m'\u001b[39;49m\u001b[39mmetal\u001b[39;49m\u001b[39m'\u001b[39;49m, \u001b[39m5\u001b[39;49m)\n",
      "File \u001b[0;32m~/Desktop/NAUKA/py_fun/books_and_arts/articles/2023/01/30/more_practical_example.py:85\u001b[0m, in \u001b[0;36mComponent.__init__\u001b[0;34m(self, name, kind, quantity)\u001b[0m\n\u001b[1;32m     84\u001b[0m \u001b[39mdef\u001b[39;00m \u001b[39m__init__\u001b[39m(\u001b[39mself\u001b[39m, name, kind, quantity) \u001b[39m-\u001b[39m\u001b[39m>\u001b[39m \u001b[39mNone\u001b[39;00m:\n\u001b[0;32m---> 85\u001b[0m     \u001b[39mself\u001b[39;49m\u001b[39m.\u001b[39;49mname \u001b[39m=\u001b[39m name\n\u001b[1;32m     86\u001b[0m     \u001b[39mself\u001b[39m\u001b[39m.\u001b[39mkind \u001b[39m=\u001b[39m kind\n\u001b[1;32m     87\u001b[0m     \u001b[39mself\u001b[39m\u001b[39m.\u001b[39mquantity \u001b[39m=\u001b[39m quantity\n",
      "File \u001b[0;32m~/Desktop/NAUKA/py_fun/books_and_arts/articles/2023/01/30/more_practical_example.py:12\u001b[0m, in \u001b[0;36mValidator.__set__\u001b[0;34m(self, obj, value)\u001b[0m\n\u001b[1;32m     11\u001b[0m \u001b[39mdef\u001b[39;00m \u001b[39m__set__\u001b[39m(\u001b[39mself\u001b[39m, obj, value):\n\u001b[0;32m---> 12\u001b[0m     \u001b[39mself\u001b[39;49m\u001b[39m.\u001b[39;49mvalidate(value)\n\u001b[1;32m     13\u001b[0m     \u001b[39msetattr\u001b[39m(obj, \u001b[39mself\u001b[39m\u001b[39m.\u001b[39mprivate_name, value)\n",
      "File \u001b[0;32m~/Desktop/NAUKA/py_fun/books_and_arts/articles/2023/01/30/more_practical_example.py:75\u001b[0m, in \u001b[0;36mStringValidator.validate\u001b[0;34m(self, value)\u001b[0m\n\u001b[1;32m     71\u001b[0m     \u001b[39mraise\u001b[39;00m \u001b[39mValueError\u001b[39;00m(\n\u001b[1;32m     72\u001b[0m         \u001b[39mf\u001b[39m\u001b[39m'\u001b[39m\u001b[39mExpected \u001b[39m\u001b[39m{\u001b[39;00mvalue\u001b[39m!r}\u001b[39;00m\u001b[39m to be no bigger than \u001b[39m\u001b[39m{\u001b[39;00m\u001b[39mself\u001b[39m\u001b[39m.\u001b[39mmaxsize\u001b[39m!r}\u001b[39;00m\u001b[39m'\u001b[39m\n\u001b[1;32m     73\u001b[0m     )\n\u001b[1;32m     74\u001b[0m \u001b[39mif\u001b[39;00m \u001b[39mself\u001b[39m\u001b[39m.\u001b[39mpredicate \u001b[39mis\u001b[39;00m \u001b[39mnot\u001b[39;00m \u001b[39mNone\u001b[39;00m \u001b[39mand\u001b[39;00m \u001b[39mnot\u001b[39;00m \u001b[39mself\u001b[39m\u001b[39m.\u001b[39mpredicate(value):\n\u001b[0;32m---> 75\u001b[0m     \u001b[39mraise\u001b[39;00m \u001b[39mValueError\u001b[39;00m(\n\u001b[1;32m     76\u001b[0m         \u001b[39mf\u001b[39m\u001b[39m'\u001b[39m\u001b[39mExpected \u001b[39m\u001b[39m{\u001b[39;00m\u001b[39mself\u001b[39m\u001b[39m.\u001b[39mpredicate\u001b[39m}\u001b[39;00m\u001b[39m to be true for \u001b[39m\u001b[39m{\u001b[39;00mvalue\u001b[39m!r}\u001b[39;00m\u001b[39m'\u001b[39m\n\u001b[1;32m     77\u001b[0m     )\n",
      "\u001b[0;31mValueError\u001b[0m: Expected <method 'isupper' of 'str' objects> to be true for 'Widget'"
     ]
    }
   ],
   "source": [
    "more_practical_example.Component('Widget', 'metal', 5)"
   ]
  },
  {
   "cell_type": "code",
   "execution_count": 23,
   "metadata": {},
   "outputs": [
    {
     "data": {
      "text/plain": [
       "<more_practical_example.Component at 0x10aee9ff0>"
      ]
     },
     "execution_count": 23,
     "metadata": {},
     "output_type": "execute_result"
    }
   ],
   "source": [
    "more_practical_example.Component('PLATE', 'metal', 5)"
   ]
  },
  {
   "cell_type": "code",
   "execution_count": 24,
   "metadata": {},
   "outputs": [
    {
     "ename": "ValueError",
     "evalue": "Expected 'metle' to be one of {'metal', 'wood', 'plastic'}",
     "output_type": "error",
     "traceback": [
      "\u001b[0;31m---------------------------------------------------------------------------\u001b[0m",
      "\u001b[0;31mValueError\u001b[0m                                Traceback (most recent call last)",
      "Cell \u001b[0;32mIn[24], line 1\u001b[0m\n\u001b[0;32m----> 1\u001b[0m more_practical_example\u001b[39m.\u001b[39;49mComponent(\u001b[39m'\u001b[39;49m\u001b[39mWIDGET\u001b[39;49m\u001b[39m'\u001b[39;49m, \u001b[39m'\u001b[39;49m\u001b[39mmetle\u001b[39;49m\u001b[39m'\u001b[39;49m, \u001b[39m5\u001b[39;49m)\n",
      "File \u001b[0;32m~/Desktop/NAUKA/py_fun/books_and_arts/articles/2023/01/30/more_practical_example.py:86\u001b[0m, in \u001b[0;36mComponent.__init__\u001b[0;34m(self, name, kind, quantity)\u001b[0m\n\u001b[1;32m     84\u001b[0m \u001b[39mdef\u001b[39;00m \u001b[39m__init__\u001b[39m(\u001b[39mself\u001b[39m, name, kind, quantity) \u001b[39m-\u001b[39m\u001b[39m>\u001b[39m \u001b[39mNone\u001b[39;00m:\n\u001b[1;32m     85\u001b[0m     \u001b[39mself\u001b[39m\u001b[39m.\u001b[39mname \u001b[39m=\u001b[39m name\n\u001b[0;32m---> 86\u001b[0m     \u001b[39mself\u001b[39;49m\u001b[39m.\u001b[39;49mkind \u001b[39m=\u001b[39m kind\n\u001b[1;32m     87\u001b[0m     \u001b[39mself\u001b[39m\u001b[39m.\u001b[39mquantity \u001b[39m=\u001b[39m quantity\n",
      "File \u001b[0;32m~/Desktop/NAUKA/py_fun/books_and_arts/articles/2023/01/30/more_practical_example.py:12\u001b[0m, in \u001b[0;36mValidator.__set__\u001b[0;34m(self, obj, value)\u001b[0m\n\u001b[1;32m     11\u001b[0m \u001b[39mdef\u001b[39;00m \u001b[39m__set__\u001b[39m(\u001b[39mself\u001b[39m, obj, value):\n\u001b[0;32m---> 12\u001b[0m     \u001b[39mself\u001b[39;49m\u001b[39m.\u001b[39;49mvalidate(value)\n\u001b[1;32m     13\u001b[0m     \u001b[39msetattr\u001b[39m(obj, \u001b[39mself\u001b[39m\u001b[39m.\u001b[39mprivate_name, value)\n",
      "File \u001b[0;32m~/Desktop/NAUKA/py_fun/books_and_arts/articles/2023/01/30/more_practical_example.py:27\u001b[0m, in \u001b[0;36mOneOfValidator.validate\u001b[0;34m(self, value)\u001b[0m\n\u001b[1;32m     25\u001b[0m \u001b[39mdef\u001b[39;00m \u001b[39mvalidate\u001b[39m(\u001b[39mself\u001b[39m, value):\n\u001b[1;32m     26\u001b[0m     \u001b[39mif\u001b[39;00m value \u001b[39mnot\u001b[39;00m \u001b[39min\u001b[39;00m \u001b[39mself\u001b[39m\u001b[39m.\u001b[39moptions:\n\u001b[0;32m---> 27\u001b[0m         \u001b[39mraise\u001b[39;00m \u001b[39mValueError\u001b[39;00m(\u001b[39mf\u001b[39m\u001b[39m'\u001b[39m\u001b[39mExpected \u001b[39m\u001b[39m{\u001b[39;00mvalue\u001b[39m!r}\u001b[39;00m\u001b[39m to be one of \u001b[39m\u001b[39m{\u001b[39;00m\u001b[39mself\u001b[39m\u001b[39m.\u001b[39moptions\u001b[39m!r}\u001b[39;00m\u001b[39m'\u001b[39m)\n",
      "\u001b[0;31mValueError\u001b[0m: Expected 'metle' to be one of {'metal', 'wood', 'plastic'}"
     ]
    }
   ],
   "source": [
    "more_practical_example.Component('WIDGET', 'metle', 5)"
   ]
  },
  {
   "cell_type": "code",
   "execution_count": 25,
   "metadata": {},
   "outputs": [
    {
     "ename": "ValueError",
     "evalue": "Expected -5 to be at least 0",
     "output_type": "error",
     "traceback": [
      "\u001b[0;31m---------------------------------------------------------------------------\u001b[0m",
      "\u001b[0;31mValueError\u001b[0m                                Traceback (most recent call last)",
      "Cell \u001b[0;32mIn[25], line 1\u001b[0m\n\u001b[0;32m----> 1\u001b[0m more_practical_example\u001b[39m.\u001b[39;49mComponent(\u001b[39m'\u001b[39;49m\u001b[39mWIDGET\u001b[39;49m\u001b[39m'\u001b[39;49m, \u001b[39m'\u001b[39;49m\u001b[39mmetal\u001b[39;49m\u001b[39m'\u001b[39;49m, \u001b[39m-\u001b[39;49m\u001b[39m5\u001b[39;49m) \n",
      "File \u001b[0;32m~/Desktop/NAUKA/py_fun/books_and_arts/articles/2023/01/30/more_practical_example.py:87\u001b[0m, in \u001b[0;36mComponent.__init__\u001b[0;34m(self, name, kind, quantity)\u001b[0m\n\u001b[1;32m     85\u001b[0m \u001b[39mself\u001b[39m\u001b[39m.\u001b[39mname \u001b[39m=\u001b[39m name\n\u001b[1;32m     86\u001b[0m \u001b[39mself\u001b[39m\u001b[39m.\u001b[39mkind \u001b[39m=\u001b[39m kind\n\u001b[0;32m---> 87\u001b[0m \u001b[39mself\u001b[39;49m\u001b[39m.\u001b[39;49mquantity \u001b[39m=\u001b[39m quantity\n",
      "File \u001b[0;32m~/Desktop/NAUKA/py_fun/books_and_arts/articles/2023/01/30/more_practical_example.py:12\u001b[0m, in \u001b[0;36mValidator.__set__\u001b[0;34m(self, obj, value)\u001b[0m\n\u001b[1;32m     11\u001b[0m \u001b[39mdef\u001b[39;00m \u001b[39m__set__\u001b[39m(\u001b[39mself\u001b[39m, obj, value):\n\u001b[0;32m---> 12\u001b[0m     \u001b[39mself\u001b[39;49m\u001b[39m.\u001b[39;49mvalidate(value)\n\u001b[1;32m     13\u001b[0m     \u001b[39msetattr\u001b[39m(obj, \u001b[39mself\u001b[39m\u001b[39m.\u001b[39mprivate_name, value)\n",
      "File \u001b[0;32m~/Desktop/NAUKA/py_fun/books_and_arts/articles/2023/01/30/more_practical_example.py:44\u001b[0m, in \u001b[0;36mNumberValidator.validate\u001b[0;34m(self, value)\u001b[0m\n\u001b[1;32m     42\u001b[0m     \u001b[39mraise\u001b[39;00m \u001b[39mTypeError\u001b[39;00m(\u001b[39mf\u001b[39m\u001b[39m'\u001b[39m\u001b[39mExpected \u001b[39m\u001b[39m{\u001b[39;00mvalue\u001b[39m!r}\u001b[39;00m\u001b[39m to be an int or float\u001b[39m\u001b[39m'\u001b[39m)\n\u001b[1;32m     43\u001b[0m \u001b[39mif\u001b[39;00m \u001b[39mself\u001b[39m\u001b[39m.\u001b[39mminvalue \u001b[39mis\u001b[39;00m \u001b[39mnot\u001b[39;00m \u001b[39mNone\u001b[39;00m \u001b[39mand\u001b[39;00m value \u001b[39m<\u001b[39m \u001b[39mself\u001b[39m\u001b[39m.\u001b[39mminvalue:\n\u001b[0;32m---> 44\u001b[0m     \u001b[39mraise\u001b[39;00m \u001b[39mValueError\u001b[39;00m(\n\u001b[1;32m     45\u001b[0m         \u001b[39mf\u001b[39m\u001b[39m'\u001b[39m\u001b[39mExpected \u001b[39m\u001b[39m{\u001b[39;00mvalue\u001b[39m!r}\u001b[39;00m\u001b[39m to be at least \u001b[39m\u001b[39m{\u001b[39;00m\u001b[39mself\u001b[39m\u001b[39m.\u001b[39mminvalue\u001b[39m!r}\u001b[39;00m\u001b[39m'\u001b[39m\n\u001b[1;32m     46\u001b[0m     )\n\u001b[1;32m     47\u001b[0m \u001b[39mif\u001b[39;00m \u001b[39mself\u001b[39m\u001b[39m.\u001b[39mmaxvalue \u001b[39mis\u001b[39;00m \u001b[39mnot\u001b[39;00m \u001b[39mNone\u001b[39;00m \u001b[39mand\u001b[39;00m value \u001b[39m>\u001b[39m \u001b[39mself\u001b[39m\u001b[39m.\u001b[39mmaxvalue:\n\u001b[1;32m     48\u001b[0m     \u001b[39mraise\u001b[39;00m \u001b[39mValueError\u001b[39;00m(\n\u001b[1;32m     49\u001b[0m         \u001b[39mf\u001b[39m\u001b[39m'\u001b[39m\u001b[39mExpected \u001b[39m\u001b[39m{\u001b[39;00mvalue\u001b[39m!r}\u001b[39;00m\u001b[39m to be no more than \u001b[39m\u001b[39m{\u001b[39;00m\u001b[39mself\u001b[39m\u001b[39m.\u001b[39mmaxvalue\u001b[39m!r}\u001b[39;00m\u001b[39m'\u001b[39m\n\u001b[1;32m     50\u001b[0m     )\n",
      "\u001b[0;31mValueError\u001b[0m: Expected -5 to be at least 0"
     ]
    }
   ],
   "source": [
    "more_practical_example.Component('WIDGET', 'metal', -5) "
   ]
  },
  {
   "cell_type": "code",
   "execution_count": 26,
   "metadata": {},
   "outputs": [
    {
     "ename": "TypeError",
     "evalue": "Expected 'V' to be an int or float",
     "output_type": "error",
     "traceback": [
      "\u001b[0;31m---------------------------------------------------------------------------\u001b[0m",
      "\u001b[0;31mTypeError\u001b[0m                                 Traceback (most recent call last)",
      "Cell \u001b[0;32mIn[26], line 1\u001b[0m\n\u001b[0;32m----> 1\u001b[0m more_practical_example\u001b[39m.\u001b[39;49mComponent(\u001b[39m'\u001b[39;49m\u001b[39mWIDGET\u001b[39;49m\u001b[39m'\u001b[39;49m, \u001b[39m'\u001b[39;49m\u001b[39mmetal\u001b[39;49m\u001b[39m'\u001b[39;49m, \u001b[39m'\u001b[39;49m\u001b[39mV\u001b[39;49m\u001b[39m'\u001b[39;49m)\n",
      "File \u001b[0;32m~/Desktop/NAUKA/py_fun/books_and_arts/articles/2023/01/30/more_practical_example.py:87\u001b[0m, in \u001b[0;36mComponent.__init__\u001b[0;34m(self, name, kind, quantity)\u001b[0m\n\u001b[1;32m     85\u001b[0m \u001b[39mself\u001b[39m\u001b[39m.\u001b[39mname \u001b[39m=\u001b[39m name\n\u001b[1;32m     86\u001b[0m \u001b[39mself\u001b[39m\u001b[39m.\u001b[39mkind \u001b[39m=\u001b[39m kind\n\u001b[0;32m---> 87\u001b[0m \u001b[39mself\u001b[39;49m\u001b[39m.\u001b[39;49mquantity \u001b[39m=\u001b[39m quantity\n",
      "File \u001b[0;32m~/Desktop/NAUKA/py_fun/books_and_arts/articles/2023/01/30/more_practical_example.py:12\u001b[0m, in \u001b[0;36mValidator.__set__\u001b[0;34m(self, obj, value)\u001b[0m\n\u001b[1;32m     11\u001b[0m \u001b[39mdef\u001b[39;00m \u001b[39m__set__\u001b[39m(\u001b[39mself\u001b[39m, obj, value):\n\u001b[0;32m---> 12\u001b[0m     \u001b[39mself\u001b[39;49m\u001b[39m.\u001b[39;49mvalidate(value)\n\u001b[1;32m     13\u001b[0m     \u001b[39msetattr\u001b[39m(obj, \u001b[39mself\u001b[39m\u001b[39m.\u001b[39mprivate_name, value)\n",
      "File \u001b[0;32m~/Desktop/NAUKA/py_fun/books_and_arts/articles/2023/01/30/more_practical_example.py:42\u001b[0m, in \u001b[0;36mNumberValidator.validate\u001b[0;34m(self, value)\u001b[0m\n\u001b[1;32m     40\u001b[0m \u001b[39mdef\u001b[39;00m \u001b[39mvalidate\u001b[39m(\u001b[39mself\u001b[39m, value):\n\u001b[1;32m     41\u001b[0m     \u001b[39mif\u001b[39;00m \u001b[39mnot\u001b[39;00m \u001b[39misinstance\u001b[39m(value, (\u001b[39mint\u001b[39m, \u001b[39mfloat\u001b[39m)):\n\u001b[0;32m---> 42\u001b[0m         \u001b[39mraise\u001b[39;00m \u001b[39mTypeError\u001b[39;00m(\u001b[39mf\u001b[39m\u001b[39m'\u001b[39m\u001b[39mExpected \u001b[39m\u001b[39m{\u001b[39;00mvalue\u001b[39m!r}\u001b[39;00m\u001b[39m to be an int or float\u001b[39m\u001b[39m'\u001b[39m)\n\u001b[1;32m     43\u001b[0m     \u001b[39mif\u001b[39;00m \u001b[39mself\u001b[39m\u001b[39m.\u001b[39mminvalue \u001b[39mis\u001b[39;00m \u001b[39mnot\u001b[39;00m \u001b[39mNone\u001b[39;00m \u001b[39mand\u001b[39;00m value \u001b[39m<\u001b[39m \u001b[39mself\u001b[39m\u001b[39m.\u001b[39mminvalue:\n\u001b[1;32m     44\u001b[0m         \u001b[39mraise\u001b[39;00m \u001b[39mValueError\u001b[39;00m(\n\u001b[1;32m     45\u001b[0m             \u001b[39mf\u001b[39m\u001b[39m'\u001b[39m\u001b[39mExpected \u001b[39m\u001b[39m{\u001b[39;00mvalue\u001b[39m!r}\u001b[39;00m\u001b[39m to be at least \u001b[39m\u001b[39m{\u001b[39;00m\u001b[39mself\u001b[39m\u001b[39m.\u001b[39mminvalue\u001b[39m!r}\u001b[39;00m\u001b[39m'\u001b[39m\n\u001b[1;32m     46\u001b[0m         )\n",
      "\u001b[0;31mTypeError\u001b[0m: Expected 'V' to be an int or float"
     ]
    }
   ],
   "source": [
    "more_practical_example.Component('WIDGET', 'metal', 'V')"
   ]
  },
  {
   "cell_type": "code",
   "execution_count": null,
   "metadata": {},
   "outputs": [],
   "source": []
  }
 ],
 "metadata": {
  "kernelspec": {
   "display_name": ".env_learning",
   "language": "python",
   "name": "python3"
  },
  "language_info": {
   "codemirror_mode": {
    "name": "ipython",
    "version": 3
   },
   "file_extension": ".py",
   "mimetype": "text/x-python",
   "name": "python",
   "nbconvert_exporter": "python",
   "pygments_lexer": "ipython3",
   "version": "3.10.0"
  },
  "orig_nbformat": 4,
  "vscode": {
   "interpreter": {
    "hash": "913f0438942abde99a70ab70723e972cfd911288b963a4404f95fcc0c4f7fb8a"
   }
  }
 },
 "nbformat": 4,
 "nbformat_minor": 2
}
