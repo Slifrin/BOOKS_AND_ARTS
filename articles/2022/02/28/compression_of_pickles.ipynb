{
 "cells": [
  {
   "cell_type": "code",
   "execution_count": 2,
   "metadata": {},
   "outputs": [],
   "source": [
    "import pickle\n",
    "import bz2\n",
    "\n",
    "my_string = \"\"\"Per me si va ne la città dolente,\n",
    "per me si va ne l'etterno dolore,\n",
    "per me si va tra la perduta gente.\n",
    "Giustizia mosse il mio alto fattore:\n",
    "fecemi la divina podestate,\n",
    "la somma sapienza e 'l primo amore;\n",
    "dinanzi a me non fuor cose create\n",
    "se non etterne, e io etterno duro.\n",
    "Lasciate ogne speranza, voi ch'intrate.\"\"\"\n",
    "pickled = pickle.dumps(my_string)\n",
    "compressed = bz2.compress(pickled)\n"
   ]
  },
  {
   "cell_type": "code",
   "execution_count": 3,
   "metadata": {},
   "outputs": [
    {
     "name": "stdout",
     "output_type": "stream",
     "text": [
      "312\n",
      "262\n"
     ]
    }
   ],
   "source": [
    "print(len(my_string))\n",
    "print(len(compressed))"
   ]
  }
 ],
 "metadata": {
  "interpreter": {
   "hash": "aee8b7b246df8f9039afb4144a1f6fd8d2ca17a180786b69acc140d282b71a49"
  },
  "kernelspec": {
   "display_name": "Python 3.10.0 64-bit",
   "language": "python",
   "name": "python3"
  },
  "language_info": {
   "codemirror_mode": {
    "name": "ipython",
    "version": 3
   },
   "file_extension": ".py",
   "mimetype": "text/x-python",
   "name": "python",
   "nbconvert_exporter": "python",
   "pygments_lexer": "ipython3",
   "version": "3.10.0"
  },
  "orig_nbformat": 4
 },
 "nbformat": 4,
 "nbformat_minor": 2
}
