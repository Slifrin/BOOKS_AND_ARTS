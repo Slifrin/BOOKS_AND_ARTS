{
 "cells": [
  {
   "cell_type": "code",
   "execution_count": 12,
   "metadata": {},
   "outputs": [
    {
     "name": "stdout",
     "output_type": "stream",
     "text": [
      "obj: <__main__.ExpensiveObject object at 0x104579f00>\n",
      "ref: <weakref at 0x104f3a700; to 'ExpensiveObject' at 0x104579f00>\n",
      "r(): <__main__.ExpensiveObject object at 0x104579f00>\n",
      "deleting obj\n",
      "(Delering <__main__.ExpensiveObject object at 0x104579f00>)\n",
      "r(): None\n"
     ]
    }
   ],
   "source": [
    "\"\"\"\n",
    "http://pymotw.com/3/weakref/\n",
    "\"\"\"\n",
    "\n",
    "import weakref\n",
    "\n",
    "class ExpensiveObject:\n",
    "    def __del__(self):\n",
    "        print('(Delering {})'.format(self))\n",
    "\n",
    "obj = ExpensiveObject()\n",
    "r = weakref.ref(obj)\n",
    "\n",
    "print('obj:', obj)\n",
    "print('ref:', r)\n",
    "print('r():', r())\n",
    "print(\"deleting obj\")\n",
    "del obj\n",
    "print('r():', r())"
   ]
  },
  {
   "cell_type": "code",
   "execution_count": 13,
   "metadata": {},
   "outputs": [
    {
     "name": "stdout",
     "output_type": "stream",
     "text": [
      "obj2: <__main__.ExpensiveObject object at 0x103bcfdf0>\n",
      "ref2: <weakref at 0x104e90b30; to 'ExpensiveObject' at 0x103bcfdf0>\n",
      "r2(): <__main__.ExpensiveObject object at 0x103bcfdf0>\n",
      "deleting obj2\n",
      "(Delering <__main__.ExpensiveObject object at 0x103bcfdf0>)\n",
      "callback(<weakref at 0x104e90b30; dead>)\n",
      "r2(): None\n"
     ]
    },
    {
     "data": {
      "text/plain": [
       "'\\nThe callback receives the reference object as an argument\\nafter the reference is “dead” and no longer refers to the original object.\\nOne use for this feature is to remove the weak reference object from a cache.\\n'"
      ]
     },
     "execution_count": 13,
     "metadata": {},
     "output_type": "execute_result"
    }
   ],
   "source": [
    "# callbacks\n",
    "\n",
    "def callback(reference):\n",
    "    \"\"\"Invoked when referenced object is deleted\"\"\"\n",
    "    print('callback({!r})'.format(reference))\n",
    "\n",
    "obj2 = ExpensiveObject()\n",
    "r2 = weakref.ref(obj2, callback)\n",
    "print('obj2:', obj2)\n",
    "print('ref2:', r2)\n",
    "print('r2():', r2())\n",
    "\n",
    "print('deleting obj2')\n",
    "del obj2\n",
    "print('r2():', r2())\n",
    "\n",
    "\"\"\"\n",
    "The callback receives the reference object as an argument\n",
    "after the reference is “dead” and no longer refers to the original object.\n",
    "One use for this feature is to remove the weak reference object from a cache.\n",
    "\"\"\""
   ]
  },
  {
   "cell_type": "code",
   "execution_count": 34,
   "metadata": {},
   "outputs": [
    {
     "name": "stdout",
     "output_type": "stream",
     "text": [
      "True\n",
      "(Delering <__main__.ExpensiveObject object at 0x104578f10>)\n",
      "on_finalize(('extra argument',))\n",
      "False\n",
      "(Delering <__main__.ExpensiveObject object at 0x104579b40>)\n",
      "on_finalize(('extra argument',))\n",
      "(Delering <__main__.ExpensiveObject object at 0x103bcfe80>)\n",
      "on_finalize(('extra argument',))\n",
      "False\n",
      "(Delering <__main__.ExpensiveObject object at 0x10457be20>)\n",
      "on_finalize(('extra argument',))\n",
      "True\n"
     ]
    }
   ],
   "source": [
    "import sys\n",
    "\n",
    "def on_finalize(*args):\n",
    "    print('on_finalize({!r})'.format(args))\n",
    "\n",
    "def finalize_check(do:bool):\n",
    "\n",
    "    obj3 = ExpensiveObject()\n",
    "    f3 = weakref.finalize(obj3, on_finalize, 'extra argument')\n",
    "    f3.atexit = do\n",
    "    print(f3.atexit)\n",
    "\n",
    "finalize_check(True)\n",
    "finalize_check(False)\n",
    "\n",
    "print('#' * 30)\n",
    "obj4 = ExpensiveObject()\n",
    "f4 = weakref.finalize(obj4, on_finalize, 'extra argument')\n",
    "f4.atexit = False\n",
    "print(f4.atexit)\n",
    "\n",
    "obj5 = ExpensiveObject()\n",
    "f5 = weakref.finalize(obj5, on_finalize, 'extra argument')\n",
    "f5.atexit = True\n",
    "print(f5.atexit)\n"
   ]
  }
 ],
 "metadata": {
  "interpreter": {
   "hash": "aee8b7b246df8f9039afb4144a1f6fd8d2ca17a180786b69acc140d282b71a49"
  },
  "kernelspec": {
   "display_name": "Python 3.10.0 64-bit",
   "language": "python",
   "name": "python3"
  },
  "language_info": {
   "codemirror_mode": {
    "name": "ipython",
    "version": 3
   },
   "file_extension": ".py",
   "mimetype": "text/x-python",
   "name": "python",
   "nbconvert_exporter": "python",
   "pygments_lexer": "ipython3",
   "version": "3.10.0"
  },
  "orig_nbformat": 4
 },
 "nbformat": 4,
 "nbformat_minor": 2
}
