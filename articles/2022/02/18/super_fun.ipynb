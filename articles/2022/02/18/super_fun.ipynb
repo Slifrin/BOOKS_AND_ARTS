{
 "cells": [
  {
   "cell_type": "code",
   "execution_count": 2,
   "metadata": {},
   "outputs": [],
   "source": [
    "class First:\n",
    "    def __init__(self, **kwargs):\n",
    "        print(\"FIRST befor\")\n",
    "        super().__init__(**kwargs)\n",
    "        print(\"FIRST after\")\n",
    "\n",
    "class Second:\n",
    "    def __init__(self, **kwargs):\n",
    "        print(\"SECOND befor\")\n",
    "        super().__init__(**kwargs) \n",
    "        print(\"SECOND after\")\n",
    "\n",
    "class Third(Second, First):\n",
    "    def __init__(self, **kwargs):\n",
    "        print(\"THIRD befor\")\n",
    "        super().__init__(**kwargs) \n",
    "        print(\"THIRD after\")"
   ]
  },
  {
   "cell_type": "code",
   "execution_count": 3,
   "metadata": {},
   "outputs": [
    {
     "name": "stdout",
     "output_type": "stream",
     "text": [
      "THIRD befor\n",
      "SECOND befor\n",
      "FIRST befor\n",
      "FIRST after\n",
      "SECOND after\n",
      "THIRD after\n"
     ]
    },
    {
     "data": {
      "text/plain": [
       "<__main__.Third at 0x1139a68f0>"
      ]
     },
     "execution_count": 3,
     "metadata": {},
     "output_type": "execute_result"
    }
   ],
   "source": [
    "Third()"
   ]
  }
 ],
 "metadata": {
  "interpreter": {
   "hash": "aee8b7b246df8f9039afb4144a1f6fd8d2ca17a180786b69acc140d282b71a49"
  },
  "kernelspec": {
   "display_name": "Python 3.10.0 64-bit",
   "language": "python",
   "name": "python3"
  },
  "language_info": {
   "codemirror_mode": {
    "name": "ipython",
    "version": 3
   },
   "file_extension": ".py",
   "mimetype": "text/x-python",
   "name": "python",
   "nbconvert_exporter": "python",
   "pygments_lexer": "ipython3",
   "version": "3.10.0"
  },
  "orig_nbformat": 4
 },
 "nbformat": 4,
 "nbformat_minor": 2
}
