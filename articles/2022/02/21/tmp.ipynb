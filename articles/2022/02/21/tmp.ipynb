{
 "cells": [
  {
   "cell_type": "code",
   "execution_count": 1,
   "metadata": {},
   "outputs": [
    {
     "name": "stdout",
     "output_type": "stream",
     "text": [
      "Learn\n",
      "YouTube\n",
      "Sports\n",
      "Study\n"
     ]
    }
   ],
   "source": [
    "colors = {'Learn': 'cyan', 'YouTube': 'red', 'Sports': 'cyan', 'Study': 'green'}\n",
    "for c in colors:\n",
    "    print(c)"
   ]
  },
  {
   "cell_type": "code",
   "execution_count": 2,
   "metadata": {},
   "outputs": [],
   "source": [
    "from enum import Enum\n",
    "\n",
    "class Status(Enum):\n",
    "    OPEN = 0\n",
    "    COMPLTED = 1"
   ]
  },
  {
   "cell_type": "code",
   "execution_count": 1,
   "metadata": {},
   "outputs": [
    {
     "ename": "NameError",
     "evalue": "name 'Status' is not defined",
     "output_type": "error",
     "traceback": [
      "\u001b[0;31m---------------------------------------------------------------------------\u001b[0m",
      "\u001b[0;31mNameError\u001b[0m                                 Traceback (most recent call last)",
      "\u001b[1;32m/Users/Jerzy_Kiedrowski/Desktop/NAUKA/py_fun/books_and_arts/articles/2022/02/21/tmp.ipynb Cell 3'\u001b[0m in \u001b[0;36m<module>\u001b[0;34m\u001b[0m\n\u001b[0;32m----> <a href='vscode-notebook-cell:/Users/Jerzy_Kiedrowski/Desktop/NAUKA/py_fun/books_and_arts/articles/2022/02/21/tmp.ipynb#ch0000002?line=0'>1</a>\u001b[0m \u001b[39mprint\u001b[39m(Status(\u001b[39m1\u001b[39m))\n\u001b[1;32m      <a href='vscode-notebook-cell:/Users/Jerzy_Kiedrowski/Desktop/NAUKA/py_fun/books_and_arts/articles/2022/02/21/tmp.ipynb#ch0000002?line=1'>2</a>\u001b[0m \u001b[39mprint\u001b[39m(\u001b[39mint\u001b[39m(Status\u001b[39m.\u001b[39mCOMPLTED))\n",
      "\u001b[0;31mNameError\u001b[0m: name 'Status' is not defined"
     ]
    }
   ],
   "source": [
    "print(Status(1))\n",
    "print(int(Status.COMPLTED))"
   ]
  },
  {
   "cell_type": "code",
   "execution_count": 10,
   "metadata": {},
   "outputs": [
    {
     "name": "stdout",
     "output_type": "stream",
     "text": [
      "bytearray(b'abc')\n",
      "bytearray(b'{\\x03\\xff\\x00d')\n",
      "True\n",
      "2\n",
      "4\n"
     ]
    }
   ],
   "source": [
    "spr = \"abc\"\n",
    "print(bytearray(spr, encoding=\"utf-8\"))\n",
    "newFileBytes = [123, 3, 255, 0, 100]\n",
    "print(bytearray(newFileBytes))\n",
    "\n",
    "print(0b001 == 0b01)\n",
    "print(3 & 2)\n",
    "print(2 << 1)\n",
    "\n",
    "\n"
   ]
  },
  {
   "cell_type": "code",
   "execution_count": 12,
   "metadata": {},
   "outputs": [
    {
     "name": "stdout",
     "output_type": "stream",
     "text": [
      "4\n"
     ]
    }
   ],
   "source": [
    "var = \"00000100\"\n",
    "print(int(var, base=2))"
   ]
  },
  {
   "cell_type": "code",
   "execution_count": 15,
   "metadata": {},
   "outputs": [
    {
     "name": "stdout",
     "output_type": "stream",
     "text": [
      "49\n"
     ]
    }
   ],
   "source": [
    "mem_v = memoryview(b'1111')\n",
    "print(mem_v[0])"
   ]
  },
  {
   "cell_type": "code",
   "execution_count": 27,
   "metadata": {},
   "outputs": [
    {
     "name": "stdout",
     "output_type": "stream",
     "text": [
      "['a:110', '', ':0', 'b:10', 'c:01', 'd:1']\n",
      "2\n",
      "['a:110', ' :0', 'b:10', 'c:01', 'd:1']\n"
     ]
    }
   ],
   "source": [
    "chars = \"a:110  :0 b:10 c:01 d:1\"\n",
    "\n",
    "print(chars.split(' '))\n",
    "elemens = chars.split(' ')\n",
    "if '' in elemens:\n",
    "    space = elemens.index('')\n",
    "    space_code = space + 1\n",
    "    print(space_code)\n",
    "    elemens[space] = \" \" + elemens[space_code]\n",
    "    del elemens[space_code]\n",
    "print(elemens)"
   ]
  },
  {
   "cell_type": "code",
   "execution_count": 35,
   "metadata": {},
   "outputs": [
    {
     "name": "stdout",
     "output_type": "stream",
     "text": [
      "Counter({' ': 29, 'e': 14, 'a': 14, 'l': 12, 'o': 9, 'h': 9, 't': 8, 'c': 6, 'd': 5, 'i': 5, 'p': 4, 'r': 4, 'w': 4, 'k': 4, 's': 4, 'n': 3, 'g': 3, 'u': 3, 'm': 2, 'y': 2, 'S': 1, 'f': 1, 'b': 1, '(': 1, ')': 1, '.': 1, 'T': 1, ':': 1})\n",
      "28 152\n"
     ]
    }
   ],
   "source": [
    "from collections import Counter\n",
    "\n",
    "text = \"Some people did all the hard work of mapping what each character would be (in all the languages) to a key that we could all access. They look like this:\"\n",
    "licznik = Counter(text)\n",
    "print(licznik)\n",
    "print(len(licznik), len(text))\n"
   ]
  },
  {
   "cell_type": "code",
   "execution_count": 38,
   "metadata": {},
   "outputs": [
    {
     "name": "stdout",
     "output_type": "stream",
     "text": [
      "00000110\n",
      "00000110\n"
     ]
    }
   ],
   "source": [
    "# converting int to binary string\n",
    "# https://stackoverflow.com/questions/10411085/converting-integer-to-binary-in-python\n",
    "\n",
    "print('{0:08b}'.format(6))\n",
    "print(f'{6:08b}')\n"
   ]
  },
  {
   "cell_type": "code",
   "execution_count": 39,
   "metadata": {},
   "outputs": [
    {
     "name": "stdout",
     "output_type": "stream",
     "text": [
      "255\n"
     ]
    }
   ],
   "source": [
    "# converting 'binary string' to int\n",
    "# https://stackoverflow.com/questions/8928240/convert-base-2-binary-number-string-to-int\n",
    "# https://docs.python.org/3/library/functions.html#int\n",
    "\n",
    "# other base 2,8,10,16\n",
    "\n",
    "print(int('11111111', 2))"
   ]
  }
 ],
 "metadata": {
  "interpreter": {
   "hash": "62866b3f2dfac8a91dc05e84f5c9b304d345f4df14c1083e4c50e8faa96cce98"
  },
  "kernelspec": {
   "display_name": "Python 3.10.0 ('.env': venv)",
   "language": "python",
   "name": "python3"
  },
  "language_info": {
   "codemirror_mode": {
    "name": "ipython",
    "version": 3
   },
   "file_extension": ".py",
   "mimetype": "text/x-python",
   "name": "python",
   "nbconvert_exporter": "python",
   "pygments_lexer": "ipython3",
   "version": "3.10.0"
  },
  "orig_nbformat": 4
 },
 "nbformat": 4,
 "nbformat_minor": 2
}
