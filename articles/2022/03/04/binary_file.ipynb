{
 "cells": [
  {
   "cell_type": "code",
   "execution_count": 24,
   "metadata": {},
   "outputs": [
    {
     "name": "stdout",
     "output_type": "stream",
     "text": [
      "bytearray(b'\\x00\\x01\\x02\\x03\\x04')\n",
      "bytearray(b'\\x00\\x01\\x02\\x03\\x04')\n",
      "bytearray(b'\\x00\\x01\\x02\\x03\\x04')\n",
      "bytearray(b'\\x00\\x01\\x02\\x03\\x04')\n",
      "bytearray(b'\\x00\\x01\\x02\\x03\\x04')\n"
     ]
    }
   ],
   "source": [
    "import os\n",
    "import random\n",
    "\n",
    "\n",
    "with open(\"test_bin_data\", 'wb') as o_data:\n",
    "    for i in range(5):\n",
    "        new_data = bytearray([j for j in range(5)])\n",
    "        print(new_data)\n",
    "        \n",
    "        o_data.write(new_data)\n",
    "        # o_data.write(b'\\n')\n",
    "    # o_data.writelines"
   ]
  },
  {
   "cell_type": "code",
   "execution_count": 19,
   "metadata": {},
   "outputs": [
    {
     "name": "stdout",
     "output_type": "stream",
     "text": [
      "b'\\x00\\x03'\n",
      "b'\\x03\\x00'\n"
     ]
    }
   ],
   "source": [
    "print((3).to_bytes(2, byteorder='big'))\n",
    "print((3).to_bytes(2, byteorder='little'))"
   ]
  },
  {
   "cell_type": "code",
   "execution_count": 25,
   "metadata": {},
   "outputs": [
    {
     "name": "stdout",
     "output_type": "stream",
     "text": [
      "bytearray(b'abcdZAgh')\n"
     ]
    }
   ],
   "source": [
    "buf = bytearray(b'abcdefgh')\n",
    "mv = memoryview(buf)\n",
    "mv[4:6] = b'ZA'\n",
    "print(buf)"
   ]
  }
 ],
 "metadata": {
  "interpreter": {
   "hash": "aee8b7b246df8f9039afb4144a1f6fd8d2ca17a180786b69acc140d282b71a49"
  },
  "kernelspec": {
   "display_name": "Python 3.10.0 64-bit",
   "language": "python",
   "name": "python3"
  },
  "language_info": {
   "codemirror_mode": {
    "name": "ipython",
    "version": 3
   },
   "file_extension": ".py",
   "mimetype": "text/x-python",
   "name": "python",
   "nbconvert_exporter": "python",
   "pygments_lexer": "ipython3",
   "version": "3.10.0"
  },
  "orig_nbformat": 4
 },
 "nbformat": 4,
 "nbformat_minor": 2
}
