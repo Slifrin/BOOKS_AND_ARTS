{
 "cells": [
  {
   "cell_type": "markdown",
   "metadata": {},
   "source": [
    "# Sorting\n"
   ]
  },
  {
   "cell_type": "code",
   "execution_count": 14,
   "metadata": {},
   "outputs": [],
   "source": [
    "class bcolors:\n",
    "    HEADER = '\\033[95m'\n",
    "    OKBLUE = '\\033[94m'\n",
    "    OKCYAN = '\\033[96m'\n",
    "    OKGREEN = '\\033[92m'\n",
    "    WARNING = '\\033[93m'\n",
    "    FAIL = '\\033[91m'\n",
    "    ENDC = '\\033[0m'\n",
    "    BOLD = '\\033[1m'\n",
    "    UNDERLINE = '\\033[4m'\n",
    "\n",
    "\n",
    "def color_printer(container, indexes_to_color):\n",
    "    output = \"[ \"\n",
    "    max_index = len(container) - 1\n",
    "    for i, element in enumerate(container):\n",
    "        if i in indexes_to_color:\n",
    "            output += bcolors.OKBLUE + str(element) + bcolors.ENDC\n",
    "        else:\n",
    "            output += str(element)\n",
    "        if i != max_index:\n",
    "                output += \", \"\n",
    "    output += \" ]\"\n",
    "    print(output)\n",
    "\n",
    "\n",
    "def sorting(sort_func, input_list=None):\n",
    "    if input_list is None:\n",
    "        input_list = [25, 21, 22, 24, 23, 27, 26]\n",
    "    print(input_list)\n",
    "    print(\"-\" * 50)\n",
    "    print()\n",
    "    sorted_values = sort_func(input_list)\n",
    "    if sorted_values is not None:\n",
    "         print(sorted_values)\n",
    "    print()\n",
    "    print(input_list)"
   ]
  },
  {
   "cell_type": "code",
   "execution_count": 15,
   "metadata": {},
   "outputs": [],
   "source": [
    "\n",
    "def buble_sort(my_list: list):\n",
    "    last_element_index = len(my_list) - 1\n",
    "\n",
    "    for pass_number in range(last_element_index, 0, -1):\n",
    "        for idx in range(pass_number):\n",
    "            if my_list[idx] > my_list[idx + 1]:\n",
    "                my_list[idx + 1], my_list[idx] = my_list[idx], my_list[idx + 1]\n",
    "            color_printer(my_list, [idx, idx + 1])\n",
    "        print(\"-\" * 50)\n"
   ]
  },
  {
   "cell_type": "code",
   "execution_count": 16,
   "metadata": {},
   "outputs": [
    {
     "name": "stdout",
     "output_type": "stream",
     "text": [
      "[25, 21, 22, 24, 23, 27, 26]\n",
      "--------------------------------------------------\n",
      "\n",
      "[ \u001b[94m21\u001b[0m, \u001b[94m25\u001b[0m, 22, 24, 23, 27, 26 ]\n",
      "[ 21, \u001b[94m22\u001b[0m, \u001b[94m25\u001b[0m, 24, 23, 27, 26 ]\n",
      "[ 21, 22, \u001b[94m24\u001b[0m, \u001b[94m25\u001b[0m, 23, 27, 26 ]\n",
      "[ 21, 22, 24, \u001b[94m23\u001b[0m, \u001b[94m25\u001b[0m, 27, 26 ]\n",
      "[ 21, 22, 24, 23, \u001b[94m25\u001b[0m, \u001b[94m27\u001b[0m, 26 ]\n",
      "[ 21, 22, 24, 23, 25, \u001b[94m26\u001b[0m, \u001b[94m27\u001b[0m ]\n",
      "--------------------------------------------------\n",
      "[ \u001b[94m21\u001b[0m, \u001b[94m22\u001b[0m, 24, 23, 25, 26, 27 ]\n",
      "[ 21, \u001b[94m22\u001b[0m, \u001b[94m24\u001b[0m, 23, 25, 26, 27 ]\n",
      "[ 21, 22, \u001b[94m23\u001b[0m, \u001b[94m24\u001b[0m, 25, 26, 27 ]\n",
      "[ 21, 22, 23, \u001b[94m24\u001b[0m, \u001b[94m25\u001b[0m, 26, 27 ]\n",
      "[ 21, 22, 23, 24, \u001b[94m25\u001b[0m, \u001b[94m26\u001b[0m, 27 ]\n",
      "--------------------------------------------------\n",
      "[ \u001b[94m21\u001b[0m, \u001b[94m22\u001b[0m, 23, 24, 25, 26, 27 ]\n",
      "[ 21, \u001b[94m22\u001b[0m, \u001b[94m23\u001b[0m, 24, 25, 26, 27 ]\n",
      "[ 21, 22, \u001b[94m23\u001b[0m, \u001b[94m24\u001b[0m, 25, 26, 27 ]\n",
      "[ 21, 22, 23, \u001b[94m24\u001b[0m, \u001b[94m25\u001b[0m, 26, 27 ]\n",
      "--------------------------------------------------\n",
      "[ \u001b[94m21\u001b[0m, \u001b[94m22\u001b[0m, 23, 24, 25, 26, 27 ]\n",
      "[ 21, \u001b[94m22\u001b[0m, \u001b[94m23\u001b[0m, 24, 25, 26, 27 ]\n",
      "[ 21, 22, \u001b[94m23\u001b[0m, \u001b[94m24\u001b[0m, 25, 26, 27 ]\n",
      "--------------------------------------------------\n",
      "[ \u001b[94m21\u001b[0m, \u001b[94m22\u001b[0m, 23, 24, 25, 26, 27 ]\n",
      "[ 21, \u001b[94m22\u001b[0m, \u001b[94m23\u001b[0m, 24, 25, 26, 27 ]\n",
      "--------------------------------------------------\n",
      "[ \u001b[94m21\u001b[0m, \u001b[94m22\u001b[0m, 23, 24, 25, 26, 27 ]\n",
      "--------------------------------------------------\n",
      "\n",
      "[21, 22, 23, 24, 25, 26, 27]\n"
     ]
    }
   ],
   "source": [
    "sorting(buble_sort)"
   ]
  },
  {
   "cell_type": "code",
   "execution_count": 17,
   "metadata": {},
   "outputs": [],
   "source": [
    "def insertion_sort(my_list: list):\n",
    "    \"\"\"https://pl.wikipedia.org/wiki/Sortowanie_przez_wstawianies\"\"\"\n",
    "    for i in range(1, len(my_list)):\n",
    "        j = i\n",
    "        while j > 0 and my_list[j - 1] > my_list[j]:\n",
    "            my_list[j - 1], my_list[j] = my_list[j], my_list[j - 1]\n",
    "            color_printer(my_list, list(range(i + 1)))\n",
    "            j -= 1\n",
    "        print(\"-\" * 50)"
   ]
  },
  {
   "cell_type": "code",
   "execution_count": 18,
   "metadata": {},
   "outputs": [
    {
     "name": "stdout",
     "output_type": "stream",
     "text": [
      "[25, 21, 22, 24, 23, 27, 26]\n",
      "--------------------------------------------------\n",
      "\n",
      "[ \u001b[94m21\u001b[0m, \u001b[94m25\u001b[0m, 22, 24, 23, 27, 26 ]\n",
      "--------------------------------------------------\n",
      "[ \u001b[94m21\u001b[0m, \u001b[94m22\u001b[0m, \u001b[94m25\u001b[0m, 24, 23, 27, 26 ]\n",
      "--------------------------------------------------\n",
      "[ \u001b[94m21\u001b[0m, \u001b[94m22\u001b[0m, \u001b[94m24\u001b[0m, \u001b[94m25\u001b[0m, 23, 27, 26 ]\n",
      "--------------------------------------------------\n",
      "[ \u001b[94m21\u001b[0m, \u001b[94m22\u001b[0m, \u001b[94m24\u001b[0m, \u001b[94m23\u001b[0m, \u001b[94m25\u001b[0m, 27, 26 ]\n",
      "[ \u001b[94m21\u001b[0m, \u001b[94m22\u001b[0m, \u001b[94m23\u001b[0m, \u001b[94m24\u001b[0m, \u001b[94m25\u001b[0m, 27, 26 ]\n",
      "--------------------------------------------------\n",
      "--------------------------------------------------\n",
      "[ \u001b[94m21\u001b[0m, \u001b[94m22\u001b[0m, \u001b[94m23\u001b[0m, \u001b[94m24\u001b[0m, \u001b[94m25\u001b[0m, \u001b[94m26\u001b[0m, \u001b[94m27\u001b[0m ]\n",
      "--------------------------------------------------\n",
      "\n",
      "[21, 22, 23, 24, 25, 26, 27]\n"
     ]
    }
   ],
   "source": [
    "sorting(insertion_sort)"
   ]
  },
  {
   "cell_type": "code",
   "execution_count": 19,
   "metadata": {},
   "outputs": [],
   "source": [
    "\n",
    "def merge(left: list, right: list):\n",
    "    result = []\n",
    "    while len(left) > 0 and len(right) > 0:\n",
    "        if left[0] > right[0]:\n",
    "            result.append(left.pop(0))\n",
    "        else:\n",
    "            result.append(right.pop(0))\n",
    "    \n",
    "    if len(left) > 0:\n",
    "        result.extend(left)\n",
    "    if len(right) > 0:\n",
    "        result.extend(right)\n",
    "    return result\n",
    "\n",
    "def merge_sort_req(my_list: list):\n",
    "    if len(my_list) <= 1:\n",
    "        return my_list\n",
    "    \n",
    "    left = merge_sort_req(my_list[:(len(my_list) // 2)])\n",
    "    right = merge_sort_req(my_list[(len(my_list) // 2):])\n",
    "\n",
    "    return merge(left, right)"
   ]
  },
  {
   "cell_type": "code",
   "execution_count": 20,
   "metadata": {},
   "outputs": [
    {
     "name": "stdout",
     "output_type": "stream",
     "text": [
      "[25, 21, 22, 24, 23, 27, 26]\n",
      "--------------------------------------------------\n",
      "\n",
      "[27, 26, 25, 24, 23, 22, 21]\n",
      "\n",
      "[25, 21, 22, 24, 23, 27, 26]\n"
     ]
    }
   ],
   "source": [
    "sorting(merge_sort_req)"
   ]
  },
  {
   "cell_type": "code",
   "execution_count": 21,
   "metadata": {},
   "outputs": [],
   "source": [
    "def shell_sort(my_list: list):\n",
    "    distance = len(my_list) // 2\n",
    "    while distance > 0:\n",
    "        for i in range(distance, len(my_list)):\n",
    "            tmp = my_list[i]\n",
    "            j = i\n",
    "            while j >= distance and my_list[j - distance] > tmp:\n",
    "                color_printer(my_list, [j, j - distance])\n",
    "                my_list[j] = my_list[j - distance]\n",
    "                j = j - distance\n",
    "            my_list[j] = tmp\n",
    "        distance = distance // 2\n",
    "    return my_list"
   ]
  },
  {
   "cell_type": "code",
   "execution_count": 22,
   "metadata": {},
   "outputs": [
    {
     "name": "stdout",
     "output_type": "stream",
     "text": [
      "[26, 17, 20, 11, 23, 21, 13, 18, 24, 14, 12, 22, 16, 15, 19, 25]\n",
      "--------------------------------------------------\n",
      "\n",
      "[ \u001b[94m26\u001b[0m, 17, 20, 11, 23, 21, 13, 18, \u001b[94m24\u001b[0m, 14, 12, 22, 16, 15, 19, 25 ]\n",
      "[ 24, \u001b[94m17\u001b[0m, 20, 11, 23, 21, 13, 18, 26, \u001b[94m14\u001b[0m, 12, 22, 16, 15, 19, 25 ]\n",
      "[ 24, 14, \u001b[94m20\u001b[0m, 11, 23, 21, 13, 18, 26, 17, \u001b[94m12\u001b[0m, 22, 16, 15, 19, 25 ]\n",
      "[ 24, 14, 12, 11, \u001b[94m23\u001b[0m, 21, 13, 18, 26, 17, 20, 22, \u001b[94m16\u001b[0m, 15, 19, 25 ]\n",
      "[ 24, 14, 12, 11, 16, \u001b[94m21\u001b[0m, 13, 18, 26, 17, 20, 22, 23, \u001b[94m15\u001b[0m, 19, 25 ]\n",
      "[ \u001b[94m24\u001b[0m, 14, 12, 11, \u001b[94m16\u001b[0m, 15, 13, 18, 26, 17, 20, 22, 23, 21, 19, 25 ]\n",
      "[ 16, 14, 12, 11, 24, 15, 13, 18, \u001b[94m26\u001b[0m, 17, 20, 22, \u001b[94m23\u001b[0m, 21, 19, 25 ]\n",
      "[ 16, 14, 12, 11, \u001b[94m24\u001b[0m, 15, 13, 18, \u001b[94m26\u001b[0m, 17, 20, 22, 26, 21, 19, 25 ]\n",
      "[ 16, 14, 12, 11, 23, 15, 13, 18, 24, 17, \u001b[94m20\u001b[0m, 22, 26, 21, \u001b[94m19\u001b[0m, 25 ]\n",
      "[ \u001b[94m16\u001b[0m, 14, \u001b[94m12\u001b[0m, 11, 23, 15, 13, 18, 24, 17, 19, 22, 26, 21, 20, 25 ]\n",
      "[ 12, \u001b[94m14\u001b[0m, 16, \u001b[94m11\u001b[0m, 23, 15, 13, 18, 24, 17, 19, 22, 26, 21, 20, 25 ]\n",
      "[ 12, 11, 16, 14, \u001b[94m23\u001b[0m, 15, \u001b[94m13\u001b[0m, 18, 24, 17, 19, 22, 26, 21, 20, 25 ]\n",
      "[ 12, 11, \u001b[94m16\u001b[0m, 14, \u001b[94m23\u001b[0m, 15, 23, 18, 24, 17, 19, 22, 26, 21, 20, 25 ]\n",
      "[ 12, 11, 13, 14, 16, 15, 23, \u001b[94m18\u001b[0m, 24, \u001b[94m17\u001b[0m, 19, 22, 26, 21, 20, 25 ]\n",
      "[ 12, 11, 13, 14, 16, 15, 23, 17, \u001b[94m24\u001b[0m, 18, \u001b[94m19\u001b[0m, 22, 26, 21, 20, 25 ]\n",
      "[ 12, 11, 13, 14, 16, 15, \u001b[94m23\u001b[0m, 17, \u001b[94m24\u001b[0m, 18, 24, 22, 26, 21, 20, 25 ]\n",
      "[ 12, 11, 13, 14, 16, 15, 19, 17, 23, 18, 24, \u001b[94m22\u001b[0m, 26, \u001b[94m21\u001b[0m, 20, 25 ]\n",
      "[ 12, 11, 13, 14, 16, 15, 19, 17, 23, 18, 24, 21, \u001b[94m26\u001b[0m, 22, \u001b[94m20\u001b[0m, 25 ]\n",
      "[ 12, 11, 13, 14, 16, 15, 19, 17, 23, 18, \u001b[94m24\u001b[0m, 21, \u001b[94m26\u001b[0m, 22, 26, 25 ]\n",
      "[ 12, 11, 13, 14, 16, 15, 19, 17, \u001b[94m23\u001b[0m, 18, \u001b[94m24\u001b[0m, 21, 24, 22, 26, 25 ]\n",
      "[ \u001b[94m12\u001b[0m, \u001b[94m11\u001b[0m, 13, 14, 16, 15, 19, 17, 20, 18, 23, 21, 24, 22, 26, 25 ]\n",
      "[ 11, 12, 13, 14, \u001b[94m16\u001b[0m, \u001b[94m15\u001b[0m, 19, 17, 20, 18, 23, 21, 24, 22, 26, 25 ]\n",
      "[ 11, 12, 13, 14, 15, 16, \u001b[94m19\u001b[0m, \u001b[94m17\u001b[0m, 20, 18, 23, 21, 24, 22, 26, 25 ]\n",
      "[ 11, 12, 13, 14, 15, 16, 17, 19, \u001b[94m20\u001b[0m, \u001b[94m18\u001b[0m, 23, 21, 24, 22, 26, 25 ]\n",
      "[ 11, 12, 13, 14, 15, 16, 17, \u001b[94m19\u001b[0m, \u001b[94m20\u001b[0m, 20, 23, 21, 24, 22, 26, 25 ]\n",
      "[ 11, 12, 13, 14, 15, 16, 17, 18, 19, 20, \u001b[94m23\u001b[0m, \u001b[94m21\u001b[0m, 24, 22, 26, 25 ]\n",
      "[ 11, 12, 13, 14, 15, 16, 17, 18, 19, 20, 21, 23, \u001b[94m24\u001b[0m, \u001b[94m22\u001b[0m, 26, 25 ]\n",
      "[ 11, 12, 13, 14, 15, 16, 17, 18, 19, 20, 21, \u001b[94m23\u001b[0m, \u001b[94m24\u001b[0m, 24, 26, 25 ]\n",
      "[ 11, 12, 13, 14, 15, 16, 17, 18, 19, 20, 21, 22, 23, 24, \u001b[94m26\u001b[0m, \u001b[94m25\u001b[0m ]\n",
      "[11, 12, 13, 14, 15, 16, 17, 18, 19, 20, 21, 22, 23, 24, 25, 26]\n",
      "\n",
      "[11, 12, 13, 14, 15, 16, 17, 18, 19, 20, 21, 22, 23, 24, 25, 26]\n"
     ]
    }
   ],
   "source": [
    "sorting(\n",
    "    shell_sort,\n",
    "    [26, 17, 20, 11, 23, 21, 13, 18, 24, 14, 12, 22, 16, 15, 19, 25],\n",
    ")"
   ]
  },
  {
   "cell_type": "code",
   "execution_count": 23,
   "metadata": {},
   "outputs": [],
   "source": [
    "def selection_sort(my_list: list):\n",
    "    for fill_slot in range(len(my_list) - 1, 0, -1):\n",
    "        max_index = 0\n",
    "        for location in range(fill_slot + 1):\n",
    "            if my_list[location] > my_list[max_index]:\n",
    "                max_index = location\n",
    "\n",
    "        color_printer(my_list, [fill_slot, max_index])\n",
    "        my_list[fill_slot], my_list[max_index] = my_list[max_index], my_list[fill_slot]"
   ]
  },
  {
   "cell_type": "code",
   "execution_count": 24,
   "metadata": {},
   "outputs": [
    {
     "name": "stdout",
     "output_type": "stream",
     "text": [
      "[26, 17, 20, 11, 23, 21, 13, 18, 24, 14, 12, 22, 16, 15, 19, 25]\n",
      "--------------------------------------------------\n",
      "\n",
      "[ \u001b[94m26\u001b[0m, 17, 20, 11, 23, 21, 13, 18, 24, 14, 12, 22, 16, 15, 19, \u001b[94m25\u001b[0m ]\n",
      "[ \u001b[94m25\u001b[0m, 17, 20, 11, 23, 21, 13, 18, 24, 14, 12, 22, 16, 15, \u001b[94m19\u001b[0m, 26 ]\n",
      "[ 19, 17, 20, 11, 23, 21, 13, 18, \u001b[94m24\u001b[0m, 14, 12, 22, 16, \u001b[94m15\u001b[0m, 25, 26 ]\n",
      "[ 19, 17, 20, 11, \u001b[94m23\u001b[0m, 21, 13, 18, 15, 14, 12, 22, \u001b[94m16\u001b[0m, 24, 25, 26 ]\n",
      "[ 19, 17, 20, 11, 16, 21, 13, 18, 15, 14, 12, \u001b[94m22\u001b[0m, 23, 24, 25, 26 ]\n",
      "[ 19, 17, 20, 11, 16, \u001b[94m21\u001b[0m, 13, 18, 15, 14, \u001b[94m12\u001b[0m, 22, 23, 24, 25, 26 ]\n",
      "[ 19, 17, \u001b[94m20\u001b[0m, 11, 16, 12, 13, 18, 15, \u001b[94m14\u001b[0m, 21, 22, 23, 24, 25, 26 ]\n",
      "[ \u001b[94m19\u001b[0m, 17, 14, 11, 16, 12, 13, 18, \u001b[94m15\u001b[0m, 20, 21, 22, 23, 24, 25, 26 ]\n",
      "[ 15, 17, 14, 11, 16, 12, 13, \u001b[94m18\u001b[0m, 19, 20, 21, 22, 23, 24, 25, 26 ]\n",
      "[ 15, \u001b[94m17\u001b[0m, 14, 11, 16, 12, \u001b[94m13\u001b[0m, 18, 19, 20, 21, 22, 23, 24, 25, 26 ]\n",
      "[ 15, 13, 14, 11, \u001b[94m16\u001b[0m, \u001b[94m12\u001b[0m, 17, 18, 19, 20, 21, 22, 23, 24, 25, 26 ]\n",
      "[ \u001b[94m15\u001b[0m, 13, 14, 11, \u001b[94m12\u001b[0m, 16, 17, 18, 19, 20, 21, 22, 23, 24, 25, 26 ]\n",
      "[ 12, 13, \u001b[94m14\u001b[0m, \u001b[94m11\u001b[0m, 15, 16, 17, 18, 19, 20, 21, 22, 23, 24, 25, 26 ]\n",
      "[ 12, \u001b[94m13\u001b[0m, \u001b[94m11\u001b[0m, 14, 15, 16, 17, 18, 19, 20, 21, 22, 23, 24, 25, 26 ]\n",
      "[ \u001b[94m12\u001b[0m, \u001b[94m11\u001b[0m, 13, 14, 15, 16, 17, 18, 19, 20, 21, 22, 23, 24, 25, 26 ]\n",
      "\n",
      "[11, 12, 13, 14, 15, 16, 17, 18, 19, 20, 21, 22, 23, 24, 25, 26]\n"
     ]
    }
   ],
   "source": [
    "sorting(\n",
    "    selection_sort,\n",
    "    [26, 17, 20, 11, 23, 21, 13, 18, 24, 14, 12, 22, 16, 15, 19, 25],\n",
    ")"
   ]
  },
  {
   "cell_type": "code",
   "execution_count": 25,
   "metadata": {},
   "outputs": [],
   "source": [
    "def quick_sort(my_list: list):\n",
    "    if len(my_list) < 2:\n",
    "        return my_list\n",
    "    else:\n",
    "        mid = len(my_list) // 2\n",
    "        pivot = my_list[mid]\n",
    "        less = [i for i in my_list[:mid] + my_list[mid + 1 :] if pivot >= i]\n",
    "        greater = [i for i in my_list[:mid] + my_list[mid + 1 :] if pivot < i]\n",
    "        color_printer(my_list, [mid])\n",
    "        my_sorted_list = quick_sort(less) + [pivot] + quick_sort(greater)\n",
    "        color_printer(my_sorted_list, [mid])\n",
    "        return my_sorted_list\n"
   ]
  },
  {
   "cell_type": "code",
   "execution_count": 26,
   "metadata": {},
   "outputs": [
    {
     "name": "stdout",
     "output_type": "stream",
     "text": [
      "[26, 17, 20, 11, 23, 21, 13, 18, 24, 14, 12, 22, 16, 15, 19, 25]\n",
      "--------------------------------------------------\n",
      "\n",
      "[ 26, 17, 20, 11, 23, 21, 13, 18, \u001b[94m24\u001b[0m, 14, 12, 22, 16, 15, 19, 25 ]\n",
      "[ 17, 20, 11, 23, 21, 13, \u001b[94m18\u001b[0m, 14, 12, 22, 16, 15, 19 ]\n",
      "[ 17, 11, 13, \u001b[94m14\u001b[0m, 12, 16, 15 ]\n",
      "[ 11, \u001b[94m13\u001b[0m, 12 ]\n",
      "[ 11, \u001b[94m12\u001b[0m ]\n",
      "[ 11, \u001b[94m12\u001b[0m ]\n",
      "[ 11, \u001b[94m12\u001b[0m, 13 ]\n",
      "[ 17, \u001b[94m16\u001b[0m, 15 ]\n",
      "[ 15, \u001b[94m16\u001b[0m, 17 ]\n",
      "[ 11, 12, 13, \u001b[94m14\u001b[0m, 15, 16, 17 ]\n",
      "[ 20, 23, \u001b[94m21\u001b[0m, 22, 19 ]\n",
      "[ 20, \u001b[94m19\u001b[0m ]\n",
      "[ 19, \u001b[94m20\u001b[0m ]\n",
      "[ 23, \u001b[94m22\u001b[0m ]\n",
      "[ 22, \u001b[94m23\u001b[0m ]\n",
      "[ 19, 20, \u001b[94m21\u001b[0m, 22, 23 ]\n",
      "[ 11, 12, 13, 14, 15, 16, \u001b[94m17\u001b[0m, 18, 19, 20, 21, 22, 23 ]\n",
      "[ 26, \u001b[94m25\u001b[0m ]\n",
      "[ 25, \u001b[94m26\u001b[0m ]\n",
      "[ 11, 12, 13, 14, 15, 16, 17, 18, \u001b[94m19\u001b[0m, 20, 21, 22, 23, 24, 25, 26 ]\n",
      "[11, 12, 13, 14, 15, 16, 17, 18, 19, 20, 21, 22, 23, 24, 25, 26]\n",
      "\n",
      "[26, 17, 20, 11, 23, 21, 13, 18, 24, 14, 12, 22, 16, 15, 19, 25]\n"
     ]
    }
   ],
   "source": [
    "sorting(\n",
    "    quick_sort,\n",
    "    [26, 17, 20, 11, 23, 21, 13, 18, 24, 14, 12, 22, 16, 15, 19, 25],\n",
    ")"
   ]
  }
 ],
 "metadata": {
  "kernelspec": {
   "display_name": ".venv",
   "language": "python",
   "name": "python3"
  },
  "language_info": {
   "codemirror_mode": {
    "name": "ipython",
    "version": 3
   },
   "file_extension": ".py",
   "mimetype": "text/x-python",
   "name": "python",
   "nbconvert_exporter": "python",
   "pygments_lexer": "ipython3",
   "version": "3.10.0"
  },
  "orig_nbformat": 4
 },
 "nbformat": 4,
 "nbformat_minor": 2
}
