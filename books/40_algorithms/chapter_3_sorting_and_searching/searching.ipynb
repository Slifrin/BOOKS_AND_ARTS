{
 "cells": [
  {
   "cell_type": "code",
   "execution_count": 7,
   "metadata": {},
   "outputs": [],
   "source": [
    "def binary_search_but_not_recursive(my_list: list, item)-> bool:\n",
    "\n",
    "    first = 0\n",
    "    last = len(my_list)\n",
    "    while first <= last:\n",
    "        mid = (first + last) // 2\n",
    "        print(f\"{first=}  {mid=}  {last=}\")\n",
    "        if my_list[mid] == item:\n",
    "            return True\n",
    "        elif my_list[mid] > item:\n",
    "            last = mid - 1\n",
    "        else:\n",
    "            first = mid + 1\n",
    "    return False "
   ]
  },
  {
   "cell_type": "code",
   "execution_count": 9,
   "metadata": {},
   "outputs": [
    {
     "name": "stdout",
     "output_type": "stream",
     "text": [
      "first=0  mid=4  last=9\n",
      "first=0  mid=1  last=3\n"
     ]
    },
    {
     "data": {
      "text/plain": [
       "True"
      ]
     },
     "execution_count": 9,
     "metadata": {},
     "output_type": "execute_result"
    }
   ],
   "source": [
    "binary_search_but_not_recursive([10, 21, 32, 43, 54, 65, 76, 87, 98], 21)"
   ]
  },
  {
   "cell_type": "code",
   "execution_count": 11,
   "metadata": {},
   "outputs": [
    {
     "name": "stdout",
     "output_type": "stream",
     "text": [
      "first=0  mid=4  last=9\n",
      "first=5  mid=7  last=9\n",
      "first=5  mid=5  last=6\n",
      "first=6  mid=6  last=6\n"
     ]
    },
    {
     "data": {
      "text/plain": [
       "False"
      ]
     },
     "execution_count": 11,
     "metadata": {},
     "output_type": "execute_result"
    }
   ],
   "source": [
    "binary_search_but_not_recursive([10, 21, 32, 43, 54, 65, 76, 87, 98], 66)"
   ]
  },
  {
   "cell_type": "code",
   "execution_count": 20,
   "metadata": {},
   "outputs": [],
   "source": [
    "def interpolation_search(sorted_list: list, searched_item) -> bool:\n",
    "    idx0 = 0\n",
    "    idxN = len(sorted_list) - 1\n",
    "\n",
    "    while (\n",
    "        idx0 <= idxN\n",
    "        and searched_item >= sorted_list[idx0]\n",
    "        and searched_item <= sorted_list[idxN]\n",
    "    ):\n",
    "        mid = idx0 + int(\n",
    "            (float(idxN - idx0) / (sorted_list[idxN] - sorted_list[idx0]))\n",
    "            * (searched_item - sorted_list[idx0])\n",
    "        )\n",
    "        print(f\"{idx0=}  {mid=}  {idxN=}\")\n",
    "        if sorted_list[mid] == searched_item:\n",
    "            return True\n",
    "        \n",
    "        if sorted_list[mid] > searched_item:\n",
    "            idxN = mid - 1\n",
    "        else: # sorted_list[mid] < searched_item\n",
    "            idx0 = mid + 1\n",
    "\n",
    "    return False"
   ]
  },
  {
   "cell_type": "code",
   "execution_count": 21,
   "metadata": {},
   "outputs": [
    {
     "name": "stdout",
     "output_type": "stream",
     "text": [
      "idx0=0  mid=9  idxN=11\n",
      "idx0=0  mid=7  idxN=8\n"
     ]
    },
    {
     "data": {
      "text/plain": [
       "True"
      ]
     },
     "execution_count": 21,
     "metadata": {},
     "output_type": "execute_result"
    }
   ],
   "source": [
    "interpolation_search([10, 21, 32, 43, 54, 65, 76, 87, 98, 99, 100, 101], 87)\n"
   ]
  }
 ],
 "metadata": {
  "kernelspec": {
   "display_name": ".venv",
   "language": "python",
   "name": "python3"
  },
  "language_info": {
   "codemirror_mode": {
    "name": "ipython",
    "version": 3
   },
   "file_extension": ".py",
   "mimetype": "text/x-python",
   "name": "python",
   "nbconvert_exporter": "python",
   "pygments_lexer": "ipython3",
   "version": "3.11.1"
  },
  "orig_nbformat": 4
 },
 "nbformat": 4,
 "nbformat_minor": 2
}
