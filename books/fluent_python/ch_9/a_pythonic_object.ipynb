{
 "cells": [
  {
   "cell_type": "code",
   "execution_count": 4,
   "metadata": {},
   "outputs": [
    {
     "name": "stdout",
     "output_type": "stream",
     "text": [
      "array('d', [1.0, 2.0])\n",
      "b'\\x00\\x00\\x00\\x00\\x00\\x00\\xf0?\\x00\\x00\\x00\\x00\\x00\\x00\\x00@'\n",
      "<memory at 0x111181600>\n",
      "<memory at 0x111181900>\n",
      "1.0 2.0\n"
     ]
    }
   ],
   "source": [
    "from array import array\n",
    "x = 1\n",
    "y = 2\n",
    "\n",
    "typecode = 'd'\n",
    "\n",
    "arr = array(typecode, (x, y))\n",
    "print(arr)\n",
    "b_arr = bytes(arr)\n",
    "print(b_arr)\n",
    "\n",
    "memv = memoryview(b_arr)\n",
    "print(memv)\n",
    "memv_after_cast = memv.cast(typecode)\n",
    "print(memv_after_cast)\n",
    "print(*memv_after_cast)"
   ]
  },
  {
   "cell_type": "code",
   "execution_count": 11,
   "metadata": {},
   "outputs": [
    {
     "name": "stdout",
     "output_type": "stream",
     "text": [
      "3\n",
      "2\n",
      "['_Spr__x', '__class__', '__delattr__', '__dict__', '__dir__', '__doc__', '__eq__', '__format__', '__ge__', '__getattribute__', '__gt__', '__hash__', '__init__', '__init_subclass__', '__le__', '__lt__', '__module__', '__ne__', '__new__', '__reduce__', '__reduce_ex__', '__repr__', '__setattr__', '__sizeof__', '__str__', '__subclasshook__', '__weakref__', '_x', 'x']\n",
      "x=3 _x=2 __x=4\n"
     ]
    }
   ],
   "source": [
    "class Spr:\n",
    "    def __init__(self):\n",
    "        self.__x = 1\n",
    "        self._x = 2\n",
    "        self.x = 3\n",
    "    \n",
    "    def __repr__(self):\n",
    "        return 'x={} _x={} __x={}'.format(self.x, self._x, self.__x)\n",
    "\n",
    "a = Spr()\n",
    "print(a.x)\n",
    "print(a._x)\n",
    "# print(a.__x)\n",
    "print(dir(a))\n",
    "a._Spr__x = 4\n",
    "print(a)"
   ]
  },
  {
   "cell_type": "code",
   "execution_count": 12,
   "metadata": {},
   "outputs": [
    {
     "name": "stdout",
     "output_type": "stream",
     "text": [
      "3\n",
      "4\n"
     ]
    }
   ],
   "source": [
    "print(hash(3))\n",
    "print(hash(4))"
   ]
  }
 ],
 "metadata": {
  "interpreter": {
   "hash": "aee8b7b246df8f9039afb4144a1f6fd8d2ca17a180786b69acc140d282b71a49"
  },
  "kernelspec": {
   "display_name": "Python 3.10.0 64-bit",
   "language": "python",
   "name": "python3"
  },
  "language_info": {
   "codemirror_mode": {
    "name": "ipython",
    "version": 3
   },
   "file_extension": ".py",
   "mimetype": "text/x-python",
   "name": "python",
   "nbconvert_exporter": "python",
   "pygments_lexer": "ipython3",
   "version": "3.10.0"
  },
  "orig_nbformat": 4
 },
 "nbformat": 4,
 "nbformat_minor": 2
}
