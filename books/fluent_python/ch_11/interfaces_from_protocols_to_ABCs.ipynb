{
 "cells": [
  {
   "cell_type": "code",
   "execution_count": 2,
   "metadata": {},
   "outputs": [
    {
     "name": "stdout",
     "output_type": "stream",
     "text": [
      "True\n",
      "True\n"
     ]
    }
   ],
   "source": [
    "from tombola import Tombola\n",
    "from tombolist import TomboList\n",
    "\n",
    "print(issubclass(TomboList, Tombola))\n",
    "\n",
    "t = TomboList(range(100))\n",
    "print(isinstance(t, Tombola))"
   ]
  },
  {
   "cell_type": "code",
   "execution_count": 3,
   "metadata": {},
   "outputs": [
    {
     "name": "stdout",
     "output_type": "stream",
     "text": [
      "(<class 'tombola.Tombola'>, <class 'abc.ABC'>, <class 'object'>)\n",
      "(<class 'tombolist.TomboList'>, <class 'list'>, <class 'object'>)\n"
     ]
    }
   ],
   "source": [
    "print(Tombola.__mro__)\n",
    "\n",
    "print(TomboList.__mro__)"
   ]
  },
  {
   "cell_type": "code",
   "execution_count": 6,
   "metadata": {},
   "outputs": [
    {
     "name": "stdout",
     "output_type": "stream",
     "text": [
      "True\n",
      "True\n"
     ]
    }
   ],
   "source": [
    "class Struggle:\n",
    "    def __len__(self): return 23\n",
    "\n",
    "from collections import abc\n",
    "\n",
    "print(isinstance(Struggle(), abc.Sized))\n",
    "print(issubclass(Struggle, abc.Sized))"
   ]
  },
  {
   "cell_type": "code",
   "execution_count": null,
   "metadata": {},
   "outputs": [],
   "source": []
  }
 ],
 "metadata": {
  "interpreter": {
   "hash": "aee8b7b246df8f9039afb4144a1f6fd8d2ca17a180786b69acc140d282b71a49"
  },
  "kernelspec": {
   "display_name": "Python 3.10.0 64-bit",
   "language": "python",
   "name": "python3"
  },
  "language_info": {
   "codemirror_mode": {
    "name": "ipython",
    "version": 3
   },
   "file_extension": ".py",
   "mimetype": "text/x-python",
   "name": "python",
   "nbconvert_exporter": "python",
   "pygments_lexer": "ipython3",
   "version": "3.10.0"
  },
  "orig_nbformat": 4
 },
 "nbformat": 4,
 "nbformat_minor": 2
}
