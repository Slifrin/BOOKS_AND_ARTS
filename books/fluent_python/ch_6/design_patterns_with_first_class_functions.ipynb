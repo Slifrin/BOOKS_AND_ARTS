{
 "cells": [
  {
   "cell_type": "code",
   "execution_count": 1,
   "metadata": {},
   "outputs": [
    {
     "name": "stdout",
     "output_type": "stream",
     "text": [
      "{'__name__': '__main__', '__doc__': 'Automatically created module for IPython interactive environment', '__package__': None, '__loader__': None, '__spec__': None, '__builtin__': <module 'builtins' (built-in)>, '__builtins__': <module 'builtins' (built-in)>, '_ih': ['', 'print(globals())'], '_oh': {}, '_dh': [PosixPath('/'), '/Users/Jerzy_Kiedrowski/Desktop/NAUKA/py_fun/books_and_arts/books/fluent_python/ch_6'], 'In': ['', 'print(globals())'], 'Out': {}, 'get_ipython': <bound method InteractiveShell.get_ipython of <ipykernel.zmqshell.ZMQInteractiveShell object at 0x1117c3e80>>, 'exit': <IPython.core.autocall.ZMQExitAutocall object at 0x1117c2770>, 'quit': <IPython.core.autocall.ZMQExitAutocall object at 0x1117c2770>, '_': '', '__': '', '___': '', 'os': <module 'os' from '/Library/Frameworks/Python.framework/Versions/3.10/lib/python3.10/os.py'>, 'sys': <module 'sys' (built-in)>, '_i': '', '_ii': '', '_iii': '', '_i1': 'print(globals())'}\n"
     ]
    }
   ],
   "source": [
    "print(globals())"
   ]
  }
 ],
 "metadata": {
  "interpreter": {
   "hash": "aee8b7b246df8f9039afb4144a1f6fd8d2ca17a180786b69acc140d282b71a49"
  },
  "kernelspec": {
   "display_name": "Python 3.10.0 64-bit",
   "language": "python",
   "name": "python3"
  },
  "language_info": {
   "codemirror_mode": {
    "name": "ipython",
    "version": 3
   },
   "file_extension": ".py",
   "mimetype": "text/x-python",
   "name": "python",
   "nbconvert_exporter": "python",
   "pygments_lexer": "ipython3",
   "version": "3.10.0"
  },
  "orig_nbformat": 4
 },
 "nbformat": 4,
 "nbformat_minor": 2
}
