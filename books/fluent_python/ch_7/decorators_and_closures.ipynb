{
 "cells": [
  {
   "cell_type": "markdown",
   "metadata": {},
   "source": [
    "CLOUSURES - function that access variables from outside its scope "
   ]
  },
  {
   "cell_type": "code",
   "execution_count": 3,
   "metadata": {},
   "outputs": [
    {
     "name": "stdout",
     "output_type": "stream",
     "text": [
      "4.0\n",
      "6.0\n",
      "9.333333333333334\n"
     ]
    }
   ],
   "source": [
    "def make_averager():\n",
    "    series = []\n",
    "\n",
    "    def averager(new_value):\n",
    "        series.append(new_value)\n",
    "        total = sum(series)\n",
    "        return total/len(series)\n",
    "    return averager\n",
    "\n",
    "avg = make_averager()\n",
    "print(avg(4))\n",
    "print(avg(8))\n",
    "print(avg(16))"
   ]
  },
  {
   "cell_type": "code",
   "execution_count": 5,
   "metadata": {},
   "outputs": [
    {
     "name": "stdout",
     "output_type": "stream",
     "text": [
      "4.0\n",
      "6.0\n",
      "9.333333333333334\n"
     ]
    }
   ],
   "source": [
    "class Averager():\n",
    "\n",
    "    def __init__(self):\n",
    "        self.series = []\n",
    "    \n",
    "    def __call__(self, new_value):\n",
    "        self.series.append(new_value)\n",
    "        total = sum(self.series)\n",
    "        return total/len(self.series)\n",
    "    \n",
    "avg2 = Averager()\n",
    "print(avg2(4))\n",
    "print(avg2(8))\n",
    "print(avg2(16))"
   ]
  },
  {
   "cell_type": "code",
   "execution_count": 7,
   "metadata": {},
   "outputs": [
    {
     "name": "stdout",
     "output_type": "stream",
     "text": [
      "<code object averager at 0x11336ece0, file \"/var/folders/47/5wdz6v4s6sv94b7pp_yr5yqm0000gp/T/ipykernel_13290/3505041074.py\", line 4>\n",
      "['__class__', '__delattr__', '__dir__', '__doc__', '__eq__', '__format__', '__ge__', '__getattribute__', '__gt__', '__hash__', '__init__', '__init_subclass__', '__le__', '__lt__', '__ne__', '__new__', '__reduce__', '__reduce_ex__', '__repr__', '__setattr__', '__sizeof__', '__str__', '__subclasshook__', 'co_argcount', 'co_cellvars', 'co_code', 'co_consts', 'co_filename', 'co_firstlineno', 'co_flags', 'co_freevars', 'co_kwonlyargcount', 'co_lines', 'co_linetable', 'co_lnotab', 'co_name', 'co_names', 'co_nlocals', 'co_posonlyargcount', 'co_stacksize', 'co_varnames', 'replace']\n"
     ]
    }
   ],
   "source": [
    "print(avg.__code__)\n",
    "print(dir(avg.__code__))"
   ]
  },
  {
   "cell_type": "markdown",
   "metadata": {},
   "source": [
    "# Memoization with functools.lru_cache"
   ]
  },
  {
   "cell_type": "code",
   "execution_count": 10,
   "metadata": {},
   "outputs": [],
   "source": [
    "import time\n",
    "import functools\n",
    "\n",
    "def clock(func):\n",
    "    @functools.wraps(func)\n",
    "    def clocked(*args, **kwargs):\n",
    "        t0 = time.time()\n",
    "        result = func(*args, **kwargs)\n",
    "        elapsed = time.time() -t0\n",
    "        name = func.__name__\n",
    "        arg_lst = []\n",
    "        if args:\n",
    "            arg_lst.append(', '.join(repr(arg) for arg in args))\n",
    "        if kwargs:\n",
    "            pairs = ['%s=%r' % (k, w) for k,w in sorted(kwargs.items())]\n",
    "            arg_lst.append(', '.join(pairs))\n",
    "        arg_str = ', '.join(arg_lst)\n",
    "        print('[%0.8fs] %s(%s) -> %r' % (elapsed, name, arg_str, result))\n",
    "        return result\n",
    "\n",
    "    return clocked\n",
    "\n",
    "\n",
    "\n"
   ]
  },
  {
   "cell_type": "code",
   "execution_count": 11,
   "metadata": {},
   "outputs": [
    {
     "name": "stdout",
     "output_type": "stream",
     "text": [
      "[0.00000000s] fibonacci(0) -> 0\n",
      "[0.00000072s] fibonacci(1) -> 1\n",
      "[0.00048590s] fibonacci(2) -> 1\n",
      "[0.00000000s] fibonacci(1) -> 1\n",
      "[0.00000000s] fibonacci(0) -> 0\n",
      "[0.00000000s] fibonacci(1) -> 1\n",
      "[0.00006723s] fibonacci(2) -> 1\n",
      "[0.00015163s] fibonacci(3) -> 2\n",
      "[0.00068593s] fibonacci(4) -> 3\n",
      "[0.00000000s] fibonacci(1) -> 1\n",
      "[0.00000000s] fibonacci(0) -> 0\n",
      "[0.00000119s] fibonacci(1) -> 1\n",
      "[0.00005412s] fibonacci(2) -> 1\n",
      "[0.00011492s] fibonacci(3) -> 2\n",
      "[0.00000119s] fibonacci(0) -> 0\n",
      "[0.00000095s] fibonacci(1) -> 1\n",
      "[0.00007606s] fibonacci(2) -> 1\n",
      "[0.00000095s] fibonacci(1) -> 1\n",
      "[0.00000095s] fibonacci(0) -> 0\n",
      "[0.00000095s] fibonacci(1) -> 1\n",
      "[0.00005317s] fibonacci(2) -> 1\n",
      "[0.00010920s] fibonacci(3) -> 2\n",
      "[0.00029516s] fibonacci(4) -> 3\n",
      "[0.00046372s] fibonacci(5) -> 5\n",
      "[0.00123596s] fibonacci(6) -> 8\n",
      "8\n"
     ]
    }
   ],
   "source": [
    "@clock\n",
    "def fibonacci(n):\n",
    "    if n < 2:\n",
    "        return n\n",
    "    return fibonacci(n - 2) + fibonacci(n - 1)\n",
    "\n",
    "print(fibonacci(6))"
   ]
  },
  {
   "cell_type": "code",
   "execution_count": 14,
   "metadata": {},
   "outputs": [
    {
     "name": "stdout",
     "output_type": "stream",
     "text": [
      "[0.00000095s] fibonacci_v2(0) -> 0\n",
      "[0.00000000s] fibonacci_v2(1) -> 1\n",
      "[0.00014687s] fibonacci_v2(2) -> 1\n",
      "[0.00000000s] fibonacci_v2(3) -> 2\n",
      "[0.00025296s] fibonacci_v2(4) -> 3\n",
      "[0.00000095s] fibonacci_v2(5) -> 5\n",
      "[0.00029802s] fibonacci_v2(6) -> 8\n",
      "[0.00000119s] fibonacci_v2(7) -> 13\n",
      "[0.00056219s] fibonacci_v2(8) -> 21\n",
      "21\n"
     ]
    }
   ],
   "source": [
    "@functools.lru_cache()\n",
    "@clock\n",
    "def fibonacci_v2(n):\n",
    "    if n < 2:\n",
    "        return n\n",
    "    return fibonacci_v2(n - 2) + fibonacci_v2(n - 1)\n",
    "\n",
    "print(fibonacci_v2(8))"
   ]
  },
  {
   "cell_type": "markdown",
   "metadata": {},
   "source": [
    "# Generic Functions with Single Dispatch"
   ]
  },
  {
   "cell_type": "code",
   "execution_count": 17,
   "metadata": {},
   "outputs": [
    {
     "name": "stdout",
     "output_type": "stream",
     "text": [
      "<class 'int'> 1\n",
      "This is probably text\n",
      "<class 'str'> witam\n",
      "This is sequence\n",
      "<class 'list'>\n",
      "1\n",
      "2\n",
      "3\n"
     ]
    }
   ],
   "source": [
    "from collections import abc\n",
    "\n",
    "@functools.singledispatch\n",
    "def some_processing_func(obj):\n",
    "    print(type(obj), obj)\n",
    "\n",
    "\n",
    "@some_processing_func.register(str)\n",
    "def _(text):\n",
    "    print('This is probably text')\n",
    "    print(type(text), text)\n",
    "\n",
    "@some_processing_func.register(tuple)\n",
    "@some_processing_func.register(abc.MutableSequence)\n",
    "def _(seq):\n",
    "    print('This is sequence')\n",
    "    print(type(seq))\n",
    "    for e in seq:\n",
    "        print(e)\n",
    "\n",
    "\n",
    "some_processing_func(1)\n",
    "some_processing_func('witam')\n",
    "some_processing_func([1,2,3])\n",
    "\n",
    "\n"
   ]
  },
  {
   "cell_type": "code",
   "execution_count": 19,
   "metadata": {},
   "outputs": [
    {
     "name": "stdout",
     "output_type": "stream",
     "text": [
      "{'__name__': '__main__', '__doc__': 'Automatically created module for IPython interactive environment', '__package__': None, '__loader__': None, '__spec__': None, '__builtin__': <module 'builtins' (built-in)>, '__builtins__': <module 'builtins' (built-in)>, '_ih': ['', 'def make_averager():\\n    series = []\\n\\n    def averager(new_value):\\n        series.append(new_value)\\n        tota = sum(series)', 'def make_averager():\\n    series = []\\n\\n    def averager(new_value):\\n        series.append(new_value)\\n        total = sum(series)\\n        return total/len(series)\\n\\navg = make_averager()\\nprint(avg(4))\\nprint(avg(8))\\nprint(avg(16))', 'def make_averager():\\n    series = []\\n\\n    def averager(new_value):\\n        series.append(new_value)\\n        total = sum(series)\\n        return total/len(series)\\n    return averager\\n\\navg = make_averager()\\nprint(avg(4))\\nprint(avg(8))\\nprint(avg(16))', 'class Averager():\\n\\n    def __init__(self):\\n        self.series = []\\n    \\n    def __call__(self, new_value):\\n        self.series.append(new_value)\\n        total = sum(self.series)', 'class Averager():\\n\\n    def __init__(self):\\n        self.series = []\\n    \\n    def __call__(self, new_value):\\n        self.series.append(new_value)\\n        total = sum(self.series)\\n        return total/len(self.series)\\n    \\navg2 = Averager()\\nprint(avg2(4))\\nprint(avg2(8))\\nprint(avg2(16))', 'print(avg.__code__)', 'print(avg.__code__)\\nprint(dir(avg.__code__))', \"import time\\nimport functools\\n\\ndef clock(func):\\n    @functools.wraps(func)\\n    def clocked(*args, **kwargs):\\n        t0 = time.time()\\n        result = func(*args, **kwargs)\\n        elapsed = time.time() -t0\\n        name = func.__name__\\n        arg_lst = []\\n        if args:\\n            arg_lst.append(', '.join(repr(arg) for arg in args))\", \"import time\\nimport functools\\n\\ndef clock(func):\\n    @functools.wraps(func)\\n    def clocked(*args, **kwargs):\\n        t0 = time.time()\\n        result = func(*args, **kwargs)\\n        elapsed = time.time() -t0\\n        name = func.__name__\\n        arg_lst = []\\n        if args:\\n            arg_lst.append(', '.join(repr(arg) for arg in args))\\n        if kwargs:\\n            pairs = ['%s=%r' % (k, w) for k,w in sorted(kwargs.items())]\\n            arg_lst.append(', '.join(pairs))\\n        arg_str = ', '.join(arg_lst)\\n        print('[%0.8fs] %s(%s) -> %r' % (elapsed, name, arg_str, result))\\n        return result\\n\\n    return clocked\\n«\", \"import time\\nimport functools\\n\\ndef clock(func):\\n    @functools.wraps(func)\\n    def clocked(*args, **kwargs):\\n        t0 = time.time()\\n        result = func(*args, **kwargs)\\n        elapsed = time.time() -t0\\n        name = func.__name__\\n        arg_lst = []\\n        if args:\\n            arg_lst.append(', '.join(repr(arg) for arg in args))\\n        if kwargs:\\n            pairs = ['%s=%r' % (k, w) for k,w in sorted(kwargs.items())]\\n            arg_lst.append(', '.join(pairs))\\n        arg_str = ', '.join(arg_lst)\\n        print('[%0.8fs] %s(%s) -> %r' % (elapsed, name, arg_str, result))\\n        return result\\n\\n    return clocked\", '@clock\\ndef fibonacci(n):\\n    if n < 2:\\n        return n\\n    return fibonacci(n - 2) + fibonacci(n - 1)\\n\\nprint(fibonacci(6))', '@functools.cache()\\n@clock\\ndef fibonacci_v2(n):\\n    if n < 2:\\n        return n\\n    return fibonacci_v2(n - 2) + fibonacci_v2(n - 1)\\n\\nprint(fibonacci_v2(8))', '@functools.lru_cache()\\n@clock\\ndef fibonacci_v2(n):\\n    if n < 2:\\n        return n\\n    return fibonacci_v2(n - 2) + fibonacci_v2(n - 1)\\n\\nprint(fibonacci_v2(8))', '@functools.lru_cache()\\n@clock\\ndef fibonacci_v2(n):\\n    if n < 2:\\n        return n\\n    return fibonacci_v2(n - 2) + fibonacci_v2(n - 1)\\n\\nprint(fibonacci_v2(8))', 'def some_processing_func(obj)', \"@functools.singledispatch\\ndef some_processing_func(obj):\\n    print(type(obj), obj)\\n\\n\\n@some_processing_func.register(str)\\ndef _(text):\\n    print('This is probably text')\\n    print(type(text), text)\\n\\n@some_processing_func.register(tuple)\\n@some_processing_func.register(abc.Mu)\", \"from collections import abc\\n\\n@functools.singledispatch\\ndef some_processing_func(obj):\\n    print(type(obj), obj)\\n\\n\\n@some_processing_func.register(str)\\ndef _(text):\\n    print('This is probably text')\\n    print(type(text), text)\\n\\n@some_processing_func.register(tuple)\\n@some_processing_func.register(abc.MutableSequence)\\ndef _(seq):\\n    print('This is sequence')\\n    print(type(seq))\\n    for e in seq:\\n        print(e)\\n\\n\\nsome_processing_func(1)\\nsome_processing_func('witam')\\nsome_processing_func([1,2,3])\", 'print(**locals())', 'print(locals())'], '_oh': {}, '_dh': [PosixPath('/'), '/Users/Jerzy_Kiedrowski/Desktop/NAUKA/py_fun/books_and_arts/books/fluent_python/ch_7'], 'In': ['', 'def make_averager():\\n    series = []\\n\\n    def averager(new_value):\\n        series.append(new_value)\\n        tota = sum(series)', 'def make_averager():\\n    series = []\\n\\n    def averager(new_value):\\n        series.append(new_value)\\n        total = sum(series)\\n        return total/len(series)\\n\\navg = make_averager()\\nprint(avg(4))\\nprint(avg(8))\\nprint(avg(16))', 'def make_averager():\\n    series = []\\n\\n    def averager(new_value):\\n        series.append(new_value)\\n        total = sum(series)\\n        return total/len(series)\\n    return averager\\n\\navg = make_averager()\\nprint(avg(4))\\nprint(avg(8))\\nprint(avg(16))', 'class Averager():\\n\\n    def __init__(self):\\n        self.series = []\\n    \\n    def __call__(self, new_value):\\n        self.series.append(new_value)\\n        total = sum(self.series)', 'class Averager():\\n\\n    def __init__(self):\\n        self.series = []\\n    \\n    def __call__(self, new_value):\\n        self.series.append(new_value)\\n        total = sum(self.series)\\n        return total/len(self.series)\\n    \\navg2 = Averager()\\nprint(avg2(4))\\nprint(avg2(8))\\nprint(avg2(16))', 'print(avg.__code__)', 'print(avg.__code__)\\nprint(dir(avg.__code__))', \"import time\\nimport functools\\n\\ndef clock(func):\\n    @functools.wraps(func)\\n    def clocked(*args, **kwargs):\\n        t0 = time.time()\\n        result = func(*args, **kwargs)\\n        elapsed = time.time() -t0\\n        name = func.__name__\\n        arg_lst = []\\n        if args:\\n            arg_lst.append(', '.join(repr(arg) for arg in args))\", \"import time\\nimport functools\\n\\ndef clock(func):\\n    @functools.wraps(func)\\n    def clocked(*args, **kwargs):\\n        t0 = time.time()\\n        result = func(*args, **kwargs)\\n        elapsed = time.time() -t0\\n        name = func.__name__\\n        arg_lst = []\\n        if args:\\n            arg_lst.append(', '.join(repr(arg) for arg in args))\\n        if kwargs:\\n            pairs = ['%s=%r' % (k, w) for k,w in sorted(kwargs.items())]\\n            arg_lst.append(', '.join(pairs))\\n        arg_str = ', '.join(arg_lst)\\n        print('[%0.8fs] %s(%s) -> %r' % (elapsed, name, arg_str, result))\\n        return result\\n\\n    return clocked\\n«\", \"import time\\nimport functools\\n\\ndef clock(func):\\n    @functools.wraps(func)\\n    def clocked(*args, **kwargs):\\n        t0 = time.time()\\n        result = func(*args, **kwargs)\\n        elapsed = time.time() -t0\\n        name = func.__name__\\n        arg_lst = []\\n        if args:\\n            arg_lst.append(', '.join(repr(arg) for arg in args))\\n        if kwargs:\\n            pairs = ['%s=%r' % (k, w) for k,w in sorted(kwargs.items())]\\n            arg_lst.append(', '.join(pairs))\\n        arg_str = ', '.join(arg_lst)\\n        print('[%0.8fs] %s(%s) -> %r' % (elapsed, name, arg_str, result))\\n        return result\\n\\n    return clocked\", '@clock\\ndef fibonacci(n):\\n    if n < 2:\\n        return n\\n    return fibonacci(n - 2) + fibonacci(n - 1)\\n\\nprint(fibonacci(6))', '@functools.cache()\\n@clock\\ndef fibonacci_v2(n):\\n    if n < 2:\\n        return n\\n    return fibonacci_v2(n - 2) + fibonacci_v2(n - 1)\\n\\nprint(fibonacci_v2(8))', '@functools.lru_cache()\\n@clock\\ndef fibonacci_v2(n):\\n    if n < 2:\\n        return n\\n    return fibonacci_v2(n - 2) + fibonacci_v2(n - 1)\\n\\nprint(fibonacci_v2(8))', '@functools.lru_cache()\\n@clock\\ndef fibonacci_v2(n):\\n    if n < 2:\\n        return n\\n    return fibonacci_v2(n - 2) + fibonacci_v2(n - 1)\\n\\nprint(fibonacci_v2(8))', 'def some_processing_func(obj)', \"@functools.singledispatch\\ndef some_processing_func(obj):\\n    print(type(obj), obj)\\n\\n\\n@some_processing_func.register(str)\\ndef _(text):\\n    print('This is probably text')\\n    print(type(text), text)\\n\\n@some_processing_func.register(tuple)\\n@some_processing_func.register(abc.Mu)\", \"from collections import abc\\n\\n@functools.singledispatch\\ndef some_processing_func(obj):\\n    print(type(obj), obj)\\n\\n\\n@some_processing_func.register(str)\\ndef _(text):\\n    print('This is probably text')\\n    print(type(text), text)\\n\\n@some_processing_func.register(tuple)\\n@some_processing_func.register(abc.MutableSequence)\\ndef _(seq):\\n    print('This is sequence')\\n    print(type(seq))\\n    for e in seq:\\n        print(e)\\n\\n\\nsome_processing_func(1)\\nsome_processing_func('witam')\\nsome_processing_func([1,2,3])\", 'print(**locals())', 'print(locals())'], 'Out': {}, 'get_ipython': <bound method InteractiveShell.get_ipython of <ipykernel.zmqshell.ZMQInteractiveShell object at 0x112747e80>>, 'exit': <IPython.core.autocall.ZMQExitAutocall object at 0x112746770>, 'quit': <IPython.core.autocall.ZMQExitAutocall object at 0x112746770>, '_': <function _ at 0x113485240>, '__': '', '___': '', 'os': <module 'os' from '/Library/Frameworks/Python.framework/Versions/3.10/lib/python3.10/os.py'>, 'sys': <module 'sys' (built-in)>, '_i': 'print(**locals())', '_ii': \"from collections import abc\\n\\n@functools.singledispatch\\ndef some_processing_func(obj):\\n    print(type(obj), obj)\\n\\n\\n@some_processing_func.register(str)\\ndef _(text):\\n    print('This is probably text')\\n    print(type(text), text)\\n\\n@some_processing_func.register(tuple)\\n@some_processing_func.register(abc.MutableSequence)\\ndef _(seq):\\n    print('This is sequence')\\n    print(type(seq))\\n    for e in seq:\\n        print(e)\\n\\n\\nsome_processing_func(1)\\nsome_processing_func('witam')\\nsome_processing_func([1,2,3])\", '_iii': \"@functools.singledispatch\\ndef some_processing_func(obj):\\n    print(type(obj), obj)\\n\\n\\n@some_processing_func.register(str)\\ndef _(text):\\n    print('This is probably text')\\n    print(type(text), text)\\n\\n@some_processing_func.register(tuple)\\n@some_processing_func.register(abc.Mu)\", '_i1': 'def make_averager():\\n    series = []\\n\\n    def averager(new_value):\\n        series.append(new_value)\\n        tota = sum(series)', 'make_averager': <function make_averager at 0x112ff37f0>, '_i2': 'def make_averager():\\n    series = []\\n\\n    def averager(new_value):\\n        series.append(new_value)\\n        total = sum(series)\\n        return total/len(series)\\n\\navg = make_averager()\\nprint(avg(4))\\nprint(avg(8))\\nprint(avg(16))', 'avg': <function make_averager.<locals>.averager at 0x112878c10>, '_i3': 'def make_averager():\\n    series = []\\n\\n    def averager(new_value):\\n        series.append(new_value)\\n        total = sum(series)\\n        return total/len(series)\\n    return averager\\n\\navg = make_averager()\\nprint(avg(4))\\nprint(avg(8))\\nprint(avg(16))', '_i4': 'class Averager():\\n\\n    def __init__(self):\\n        self.series = []\\n    \\n    def __call__(self, new_value):\\n        self.series.append(new_value)\\n        total = sum(self.series)', 'Averager': <class '__main__.Averager'>, '_i5': 'class Averager():\\n\\n    def __init__(self):\\n        self.series = []\\n    \\n    def __call__(self, new_value):\\n        self.series.append(new_value)\\n        total = sum(self.series)\\n        return total/len(self.series)\\n    \\navg2 = Averager()\\nprint(avg2(4))\\nprint(avg2(8))\\nprint(avg2(16))', 'avg2': <__main__.Averager object at 0x1128a4430>, '_i6': 'print(avg.__code__)', '_i7': 'print(avg.__code__)\\nprint(dir(avg.__code__))', '_i8': \"import time\\nimport functools\\n\\ndef clock(func):\\n    @functools.wraps(func)\\n    def clocked(*args, **kwargs):\\n        t0 = time.time()\\n        result = func(*args, **kwargs)\\n        elapsed = time.time() -t0\\n        name = func.__name__\\n        arg_lst = []\\n        if args:\\n            arg_lst.append(', '.join(repr(arg) for arg in args))\", 'time': <module 'time' (built-in)>, 'functools': <module 'functools' from '/Library/Frameworks/Python.framework/Versions/3.10/lib/python3.10/functools.py'>, 'clock': <function clock at 0x112ff3370>, '_i9': \"import time\\nimport functools\\n\\ndef clock(func):\\n    @functools.wraps(func)\\n    def clocked(*args, **kwargs):\\n        t0 = time.time()\\n        result = func(*args, **kwargs)\\n        elapsed = time.time() -t0\\n        name = func.__name__\\n        arg_lst = []\\n        if args:\\n            arg_lst.append(', '.join(repr(arg) for arg in args))\\n        if kwargs:\\n            pairs = ['%s=%r' % (k, w) for k,w in sorted(kwargs.items())]\\n            arg_lst.append(', '.join(pairs))\\n        arg_str = ', '.join(arg_lst)\\n        print('[%0.8fs] %s(%s) -> %r' % (elapsed, name, arg_str, result))\\n        return result\\n\\n    return clocked\\n«\", '_i10': \"import time\\nimport functools\\n\\ndef clock(func):\\n    @functools.wraps(func)\\n    def clocked(*args, **kwargs):\\n        t0 = time.time()\\n        result = func(*args, **kwargs)\\n        elapsed = time.time() -t0\\n        name = func.__name__\\n        arg_lst = []\\n        if args:\\n            arg_lst.append(', '.join(repr(arg) for arg in args))\\n        if kwargs:\\n            pairs = ['%s=%r' % (k, w) for k,w in sorted(kwargs.items())]\\n            arg_lst.append(', '.join(pairs))\\n        arg_str = ', '.join(arg_lst)\\n        print('[%0.8fs] %s(%s) -> %r' % (elapsed, name, arg_str, result))\\n        return result\\n\\n    return clocked\", '_i11': '@clock\\ndef fibonacci(n):\\n    if n < 2:\\n        return n\\n    return fibonacci(n - 2) + fibonacci(n - 1)\\n\\nprint(fibonacci(6))', 'fibonacci': <function fibonacci at 0x112ff3f40>, '_i12': '@functools.cache()\\n@clock\\ndef fibonacci_v2(n):\\n    if n < 2:\\n        return n\\n    return fibonacci_v2(n - 2) + fibonacci_v2(n - 1)\\n\\nprint(fibonacci_v2(8))', '_i13': '@functools.lru_cache()\\n@clock\\ndef fibonacci_v2(n):\\n    if n < 2:\\n        return n\\n    return fibonacci_v2(n - 2) + fibonacci_v2(n - 1)\\n\\nprint(fibonacci_v2(8))', 'fibonacci_v2': <functools._lru_cache_wrapper object at 0x11336c250>, '_i14': '@functools.lru_cache()\\n@clock\\ndef fibonacci_v2(n):\\n    if n < 2:\\n        return n\\n    return fibonacci_v2(n - 2) + fibonacci_v2(n - 1)\\n\\nprint(fibonacci_v2(8))', 'ipykernel': <module 'ipykernel' from '/Library/Frameworks/Python.framework/Versions/3.10/lib/python3.10/site-packages/ipykernel/__init__.py'>, 'debugpy': <module 'debugpy' from '/Library/Frameworks/Python.framework/Versions/3.10/lib/python3.10/site-packages/debugpy/__init__.py'>, '_i15': 'def some_processing_func(obj)', '_i16': \"@functools.singledispatch\\ndef some_processing_func(obj):\\n    print(type(obj), obj)\\n\\n\\n@some_processing_func.register(str)\\ndef _(text):\\n    print('This is probably text')\\n    print(type(text), text)\\n\\n@some_processing_func.register(tuple)\\n@some_processing_func.register(abc.Mu)\", '_i17': \"from collections import abc\\n\\n@functools.singledispatch\\ndef some_processing_func(obj):\\n    print(type(obj), obj)\\n\\n\\n@some_processing_func.register(str)\\ndef _(text):\\n    print('This is probably text')\\n    print(type(text), text)\\n\\n@some_processing_func.register(tuple)\\n@some_processing_func.register(abc.MutableSequence)\\ndef _(seq):\\n    print('This is sequence')\\n    print(type(seq))\\n    for e in seq:\\n        print(e)\\n\\n\\nsome_processing_func(1)\\nsome_processing_func('witam')\\nsome_processing_func([1,2,3])\", 'abc': <module 'collections.abc' from '/Library/Frameworks/Python.framework/Versions/3.10/lib/python3.10/collections/abc.py'>, 'some_processing_func': <function some_processing_func at 0x112ff3e20>, '_i18': 'print(**locals())', '_i19': 'print(locals())'}\n"
     ]
    }
   ],
   "source": [
    "print(locals())"
   ]
  },
  {
   "cell_type": "code",
   "execution_count": 24,
   "metadata": {},
   "outputs": [
    {
     "name": "stdout",
     "output_type": "stream",
     "text": [
      "Witam z dekoratora\n",
      "Witam w  some_f\n",
      "Witam w \n"
     ]
    }
   ],
   "source": [
    "class SimpleDec():\n",
    "    def __init__(self, function):\n",
    "        self.func = function\n",
    "        functools.update_wrapper(self, function) # neat trick\n",
    "\n",
    "    def __call__(self, *args, **kwargs):\n",
    "        print(\"Witam z dekoratora\")\n",
    "        return self.func(*args, **kwargs)\n",
    "\n",
    "@SimpleDec\n",
    "def some_f():\n",
    "    print(\"Witam w \", some_f.__name__)\n",
    "    print(\"Witam w \")\n",
    "\n",
    "some_f()"
   ]
  }
 ],
 "metadata": {
  "interpreter": {
   "hash": "aee8b7b246df8f9039afb4144a1f6fd8d2ca17a180786b69acc140d282b71a49"
  },
  "kernelspec": {
   "display_name": "Python 3.10.0 64-bit",
   "language": "python",
   "name": "python3"
  },
  "language_info": {
   "codemirror_mode": {
    "name": "ipython",
    "version": 3
   },
   "file_extension": ".py",
   "mimetype": "text/x-python",
   "name": "python",
   "nbconvert_exporter": "python",
   "pygments_lexer": "ipython3",
   "version": "3.10.0"
  },
  "orig_nbformat": 4
 },
 "nbformat": 4,
 "nbformat_minor": 2
}
