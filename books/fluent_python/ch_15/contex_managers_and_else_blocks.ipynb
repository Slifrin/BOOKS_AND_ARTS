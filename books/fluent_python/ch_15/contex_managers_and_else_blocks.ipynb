{
 "cells": [
  {
   "cell_type": "code",
   "execution_count": 2,
   "metadata": {},
   "outputs": [
    {
     "name": "stdout",
     "output_type": "stream",
     "text": [
      "sreganam txetnoc htiw nuF\n",
      "keruJ\n",
      "Jurek\n"
     ]
    }
   ],
   "source": [
    "class LookingGlass:\n",
    "\n",
    "    def __enter__(self):\n",
    "        import sys\n",
    "        self.original_write = sys.stdout.write\n",
    "        sys.stdout.write = self.reverse_write\n",
    "        return \"Jurek\"\n",
    "    \n",
    "    def reverse_write(self, text):\n",
    "        return self.original_write(text[::-1])\n",
    "    \n",
    "    def __exit__(self, exc_type, exc_value, traceback):\n",
    "        import sys\n",
    "        sys.stdout.write = self.original_write\n",
    "        if exc_type is ZeroDivisionError:\n",
    "            print('Please DO NOT divide by zero!')\n",
    "            return True\n",
    "\n",
    "with LookingGlass() as what:\n",
    "    print('Fun with context managers')\n",
    "    print(what)\n",
    "\n",
    "print(what)"
   ]
  },
  {
   "cell_type": "code",
   "execution_count": 6,
   "metadata": {},
   "outputs": [
    {
     "name": "stdout",
     "output_type": "stream",
     "text": [
      "gniht ynnuF\n",
      "2keruJ\n",
      "Jurek2\n"
     ]
    }
   ],
   "source": [
    "import contextlib\n",
    "\n",
    "@contextlib.contextmanager\n",
    "def looking_glass():\n",
    "    import sys\n",
    "    original_write = sys.stdout.write\n",
    "\n",
    "    def reverse_write(text):\n",
    "        original_write(text[::-1])\n",
    "\n",
    "    sys.stdout.write = reverse_write\n",
    "\n",
    "    yield 'Jurek2'\n",
    "\n",
    "    sys.stdout.write = original_write\n",
    "\n",
    "with looking_glass() as what:\n",
    "    print(\"Funny thing\")\n",
    "    print(what)\n",
    "\n",
    "print(what)\n",
    "\n"
   ]
  },
  {
   "cell_type": "code",
   "execution_count": null,
   "metadata": {},
   "outputs": [],
   "source": [
    "@contextlib.contextmanager\n",
    "def better_looking_glass():\n",
    "    import sys\n",
    "    original_write = sys.stdout.write\n",
    "    def reverse_write(text):\n",
    "        sys.stdout.write(text[::-1])\n",
    "    sys.stdout.write = reverse_write\n",
    "    msg = ''\n",
    "\n",
    "    try:\n",
    "\n",
    "        yield 'Jurek3'\n",
    "\n",
    "    except ZeroDivisionError:\n",
    "        msg = 'Please DO NOT divide by ZERO'\n",
    "    finally:\n",
    "        sys.stdout.write = original_write\n",
    "        if msg:\n",
    "            print(msg)\n"
   ]
  },
  {
   "cell_type": "code",
   "execution_count": null,
   "metadata": {},
   "outputs": [],
   "source": []
  },
  {
   "cell_type": "code",
   "execution_count": null,
   "metadata": {},
   "outputs": [],
   "source": []
  }
 ],
 "metadata": {
  "interpreter": {
   "hash": "aee8b7b246df8f9039afb4144a1f6fd8d2ca17a180786b69acc140d282b71a49"
  },
  "kernelspec": {
   "display_name": "Python 3.10.0 64-bit",
   "language": "python",
   "name": "python3"
  },
  "language_info": {
   "codemirror_mode": {
    "name": "ipython",
    "version": 3
   },
   "file_extension": ".py",
   "mimetype": "text/x-python",
   "name": "python",
   "nbconvert_exporter": "python",
   "pygments_lexer": "ipython3",
   "version": "3.10.0"
  },
  "orig_nbformat": 4
 },
 "nbformat": 4,
 "nbformat_minor": 2
}
