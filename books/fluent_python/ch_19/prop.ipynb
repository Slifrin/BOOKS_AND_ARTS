{
 "cells": [
  {
   "cell_type": "code",
   "execution_count": 2,
   "metadata": {},
   "outputs": [
    {
     "name": "stdout",
     "output_type": "stream",
     "text": [
      "mappingproxy({'__dict__': <attribute '__dict__' of 'LineItem' objects>,\n",
      "              '__doc__': None,\n",
      "              '__init__': <function LineItem.__init__ at 0x109a7c940>,\n",
      "              '__module__': 'prop',\n",
      "              '__weakref__': <attribute '__weakref__' of 'LineItem' objects>,\n",
      "              'price': <property object at 0x10a0e0e50>,\n",
      "              'subtotal': <function LineItem.subtotal at 0x109a7cc10>,\n",
      "              'weight': <property object at 0x10a0aefc0>})\n",
      "{'__price': 3, '__weight': 2, 'description': 'toy'}\n"
     ]
    }
   ],
   "source": [
    "from pprint import pprint\n",
    "\n",
    "import prop\n",
    "\n",
    "pprint(prop.LineItem.__dict__)\n",
    "\n",
    "item = prop.LineItem(\"toy\", 2, 3)\n",
    "pprint(item.__dict__)"
   ]
  }
 ],
 "metadata": {
  "interpreter": {
   "hash": "aee8b7b246df8f9039afb4144a1f6fd8d2ca17a180786b69acc140d282b71a49"
  },
  "kernelspec": {
   "display_name": "Python 3.10.0 64-bit",
   "language": "python",
   "name": "python3"
  },
  "language_info": {
   "codemirror_mode": {
    "name": "ipython",
    "version": 3
   },
   "file_extension": ".py",
   "mimetype": "text/x-python",
   "name": "python",
   "nbconvert_exporter": "python",
   "pygments_lexer": "ipython3",
   "version": "3.10.0"
  },
  "orig_nbformat": 4
 },
 "nbformat": 4,
 "nbformat_minor": 2
}
