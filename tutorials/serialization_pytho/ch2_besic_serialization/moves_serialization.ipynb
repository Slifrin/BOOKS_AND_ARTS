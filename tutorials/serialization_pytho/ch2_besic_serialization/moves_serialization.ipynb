{
 "cells": [
  {
   "cell_type": "code",
   "execution_count": 3,
   "metadata": {},
   "outputs": [],
   "source": [
    "%run moves.py\n",
    "\n"
   ]
  },
  {
   "cell_type": "code",
   "execution_count": 5,
   "metadata": {},
   "outputs": [
    {
     "name": "stdout",
     "output_type": "stream",
     "text": [
      "Move(datetime.datetime(2022, 2, 23, 14, 37, 40, 921822), 'jump', 'to the left')\n"
     ]
    }
   ],
   "source": [
    "print(move1)\n"
   ]
  },
  {
   "cell_type": "code",
   "execution_count": 7,
   "metadata": {},
   "outputs": [
    {
     "name": "stdout",
     "output_type": "stream",
     "text": [
      "b'\\x80\\x04\\x95p\\x00\\x00\\x00\\x00\\x00\\x00\\x00\\x8c\\x08__main__\\x94\\x8c\\x04Move\\x94\\x93\\x94)\\x81\\x94}\\x94(\\x8c\\x04time\\x94\\x8c\\x08datetime\\x94\\x8c\\x08datetime\\x94\\x93\\x94C\\n\\x07\\xe6\\x02\\x17\\x0e%(\\x0e\\x10\\xde\\x94\\x85\\x94R\\x94\\x8c\\x04limb\\x94\\x8c\\x04jump\\x94\\x8c\\x04what\\x94\\x8c\\x0bto the left\\x94ub.'\n"
     ]
    }
   ],
   "source": [
    "import pickle\n",
    "\n",
    "data = pickle.dumps(move1)\n",
    "print(data)"
   ]
  },
  {
   "cell_type": "code",
   "execution_count": 8,
   "metadata": {},
   "outputs": [
    {
     "name": "stdout",
     "output_type": "stream",
     "text": [
      "<class 'bytes'>\n"
     ]
    }
   ],
   "source": [
    "print(type(data))"
   ]
  },
  {
   "cell_type": "code",
   "execution_count": 10,
   "metadata": {},
   "outputs": [
    {
     "name": "stdout",
     "output_type": "stream",
     "text": [
      "Move(datetime.datetime(2022, 2, 23, 14, 37, 40, 921822), 'jump', 'to the left')\n"
     ]
    }
   ],
   "source": [
    "move1d = pickle.loads(data)\n",
    "print(move1d)"
   ]
  },
  {
   "cell_type": "code",
   "execution_count": 11,
   "metadata": {},
   "outputs": [],
   "source": [
    "with open('move1.pkl', 'wb') as out:\n",
    "    pickle.dump(move1, out)"
   ]
  },
  {
   "cell_type": "code",
   "execution_count": 13,
   "metadata": {},
   "outputs": [
    {
     "name": "stdout",
     "output_type": "stream",
     "text": [
      "Move(datetime.datetime(2022, 2, 23, 14, 37, 40, 921822), 'jump', 'to the left')\n"
     ]
    }
   ],
   "source": [
    "with open('move1.pkl', 'rb') as input_f:\n",
    "    move1_from_f = pickle.load(input_f)\n",
    "    print(move1_from_f)"
   ]
  },
  {
   "cell_type": "code",
   "execution_count": null,
   "metadata": {},
   "outputs": [],
   "source": [
    "dance = [move1, move2, move3, move4]\n",
    "with open(\"dance.pkl\", \"wb\") as out:\n",
    "    pickle.dump(dance, out)"
   ]
  }
 ],
 "metadata": {
  "interpreter": {
   "hash": "aee8b7b246df8f9039afb4144a1f6fd8d2ca17a180786b69acc140d282b71a49"
  },
  "kernelspec": {
   "display_name": "Python 3.10.0 64-bit",
   "language": "python",
   "name": "python3"
  },
  "language_info": {
   "codemirror_mode": {
    "name": "ipython",
    "version": 3
   },
   "file_extension": ".py",
   "mimetype": "text/x-python",
   "name": "python",
   "nbconvert_exporter": "python",
   "pygments_lexer": "ipython3",
   "version": "3.10.0"
  },
  "orig_nbformat": 4
 },
 "nbformat": 4,
 "nbformat_minor": 2
}
